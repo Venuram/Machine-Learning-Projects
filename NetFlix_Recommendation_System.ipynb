{
  "nbformat": 4,
  "nbformat_minor": 0,
  "metadata": {
    "colab": {
      "name": "NetFlix Recommendation System",
      "provenance": [],
      "collapsed_sections": [],
      "machine_shape": "hm",
      "authorship_tag": "ABX9TyOiFSqmBGkQCkb4C4Ktf5Xi",
      "include_colab_link": true
    },
    "kernelspec": {
      "name": "python3",
      "display_name": "Python 3"
    }
  },
  "cells": [
    {
      "cell_type": "markdown",
      "metadata": {
        "id": "view-in-github",
        "colab_type": "text"
      },
      "source": [
        "<a href=\"https://colab.research.google.com/github/Venuram/Machine-Learning-Projects/blob/master/NetFlix_Recommendation_System.ipynb\" target=\"_parent\"><img src=\"https://colab.research.google.com/assets/colab-badge.svg\" alt=\"Open In Colab\"/></a>"
      ]
    },
    {
      "cell_type": "markdown",
      "metadata": {
        "id": "1kmagNKcxrjf",
        "colab_type": "text"
      },
      "source": [
        "<h1>1. Business Problem </h1>"
      ]
    },
    {
      "cell_type": "markdown",
      "metadata": {
        "id": "7clD4Lcyxrjg",
        "colab_type": "text"
      },
      "source": [
        "<h2> 1.1 Problem Description </h2>"
      ]
    },
    {
      "cell_type": "markdown",
      "metadata": {
        "id": "0ziEM4YZxrji",
        "colab_type": "text"
      },
      "source": [
        "<p>\n",
        "Netflix is all about connecting people to the movies they love. To help customers find those movies, they developed world-class movie recommendation system: CinematchSM. Its job is to predict whether someone will enjoy a movie based on how much they liked or disliked other movies. Netflix use those predictions to make personal movie recommendations based on each customer’s unique tastes. And while <b>Cinematch</b> is doing pretty well, it can always be made better.\n",
        "</p>\n",
        "<p>Now there are a lot of interesting alternative approaches to how Cinematch works that netflix haven’t tried. Some are described in the literature, some aren’t. We’re curious whether any of these can beat Cinematch by making better predictions. Because, frankly, if there is a much better approach it could make a big difference to our customers and our business.</p>\n",
        "<p> Credits: https://www.netflixprize.com/rules.html </p>"
      ]
    },
    {
      "cell_type": "markdown",
      "metadata": {
        "id": "txuaAQapxrjk",
        "colab_type": "text"
      },
      "source": [
        "<h2> 1.2 Problem Statement </h2>"
      ]
    },
    {
      "cell_type": "markdown",
      "metadata": {
        "id": "5v50M1Zbxrjl",
        "colab_type": "text"
      },
      "source": [
        "<p>\n",
        "Netflix provided a lot of anonymous rating data, and a prediction accuracy bar that is 10% better than what Cinematch can do on the same training data set. (Accuracy is a measurement of how closely predicted ratings of movies match subsequent actual ratings.) \n",
        "</p>"
      ]
    },
    {
      "cell_type": "markdown",
      "metadata": {
        "id": "9FlrEeXhxrjo",
        "colab_type": "text"
      },
      "source": [
        "<ul>\n",
        "<li> https://www.netflixprize.com/rules.html</li>\n",
        "<li> https://www.kaggle.com/netflix-inc/netflix-prize-data</li>\n",
        "<li> Netflix blog: https://medium.com/netflix-techblog/netflix-recommendations-beyond-the-5-stars-part-1-55838468f429 (very nice blog)</li>\n",
        "<li>surprise library: http://surpriselib.com/ (we use many models from this library)</li>\n",
        "<li>surprise library doc: http://surprise.readthedocs.io/en/stable/getting_started.html (we use many models from this library)</li>\n",
        "<li>installing surprise: https://github.com/NicolasHug/Surprise#installation </li>\n",
        "<li> Research paper: http://courses.ischool.berkeley.edu/i290-dm/s11/SECURE/a1-koren.pdf (most of our work was inspired by this paper)</li>\n",
        "<li> SVD Decomposition : https://www.youtube.com/watch?v=P5mlg91as1c </li>\n",
        "</ul>"
      ]
    },
    {
      "cell_type": "markdown",
      "metadata": {
        "id": "7MrYkpDqxrjq",
        "colab_type": "text"
      },
      "source": [
        "<h2>1.4 Real world/Business Objectives and constraints  </h2>"
      ]
    },
    {
      "cell_type": "markdown",
      "metadata": {
        "id": "qU2RiBYSxrjs",
        "colab_type": "text"
      },
      "source": [
        "Objectives:\n",
        "1. Predict the rating that a user would give to a movie that he ahs not yet rated.\n",
        "2. Minimize the difference between predicted and actual rating (RMSE and MAPE)\n",
        "<br>\n",
        "\n",
        "Constraints:\n",
        "1. Some form of interpretability."
      ]
    },
    {
      "cell_type": "markdown",
      "metadata": {
        "id": "OHaMsF48xrju",
        "colab_type": "text"
      },
      "source": [
        "<h1> 2. Machine Learning Problem </h1>"
      ]
    },
    {
      "cell_type": "markdown",
      "metadata": {
        "id": "ZvI3c9Nzxrjv",
        "colab_type": "text"
      },
      "source": [
        "<h2>2.1 Data </h2>"
      ]
    },
    {
      "cell_type": "markdown",
      "metadata": {
        "id": "HumNBQ7Bxrjx",
        "colab_type": "text"
      },
      "source": [
        "<h3> 2.1.1 Data Overview </h3>"
      ]
    },
    {
      "cell_type": "markdown",
      "metadata": {
        "id": "VE1V4-Twxrjz",
        "colab_type": "text"
      },
      "source": [
        "<p> Get the data from : https://www.kaggle.com/netflix-inc/netflix-prize-data/data </p>\n",
        "<p> Data files : \n",
        "<ul> \n",
        "<li> combined_data_1.txt </li>\n",
        "<li> combined_data_2.txt </li>\n",
        "<li> combined_data_3.txt </li>\n",
        "<li> combined_data_4.txt </li>\n",
        "<li> movie_titles.csv </li>\n",
        "</ul>\n",
        "<pre>  \n",
        "The first line of each file [combined_data_1.txt, combined_data_2.txt, combined_data_3.txt, combined_data_4.txt] contains the movie id followed by a colon. Each subsequent line in the file corresponds to a rating from a customer and its date in the following format:\n",
        "\n",
        "CustomerID,Rating,Date\n",
        "\n",
        "MovieIDs range from 1 to 17770 sequentially.\n",
        "CustomerIDs range from 1 to 2649429, with gaps. There are 480189 users.\n",
        "Ratings are on a five star (integral) scale from 1 to 5.\n",
        "Dates have the format YYYY-MM-DD.\n",
        "</pre>"
      ]
    },
    {
      "cell_type": "code",
      "metadata": {
        "id": "QgrhnsGRsFGm",
        "colab_type": "code",
        "outputId": "a9e0f3e1-c91a-4234-86ab-637e2d694e90",
        "colab": {
          "base_uri": "https://localhost:8080/",
          "height": 72
        }
      },
      "source": [
        "from datetime import datetime\n",
        "\n",
        "import pandas as pd\n",
        "import numpy as np\n",
        "import matplotlib\n",
        "matplotlib.use('nbagg')\n",
        "\n",
        "import matplotlib.pyplot as plt\n",
        "%matplotlib inline\n",
        "\n",
        "plt.rcParams.update({'figure.max_open_warning': 0})\n",
        "\n",
        "import seaborn as sns\n",
        "sns.set_style('whitegrid')\n",
        "import os\n",
        "from scipy import sparse\n",
        "from scipy.sparse import csr_matrix\n",
        "\n",
        "from sklearn.decomposition import TruncatedSVD\n",
        "from sklearn.metrics.pairwise import cosine_similarity\n",
        "import random"
      ],
      "execution_count": 2,
      "outputs": [
        {
          "output_type": "stream",
          "text": [
            "/usr/local/lib/python3.6/dist-packages/statsmodels/tools/_testing.py:19: FutureWarning: pandas.util.testing is deprecated. Use the functions in the public API at pandas.testing instead.\n",
            "  import pandas.util.testing as tm\n"
          ],
          "name": "stderr"
        }
      ]
    },
    {
      "cell_type": "markdown",
      "metadata": {
        "id": "vJAMqwT0xrj5",
        "colab_type": "text"
      },
      "source": [
        "<h2>2.2 Mapping the real world problem to a Machine Learning Problem </h2>"
      ]
    },
    {
      "cell_type": "markdown",
      "metadata": {
        "id": "SmpWpWWnxrj6",
        "colab_type": "text"
      },
      "source": [
        "<h3> 2.2.1 Type of Machine Learning Problem </h3>"
      ]
    },
    {
      "cell_type": "markdown",
      "metadata": {
        "id": "Cr8wSkj5xrj8",
        "colab_type": "text"
      },
      "source": [
        "<pre>\n",
        "For a given movie and user we need to predict the rating would be given by him/her to the movie. \n",
        "The given problem is a Recommendation problem \n",
        "It can also seen as a Regression problem \n",
        "</pre>"
      ]
    },
    {
      "cell_type": "markdown",
      "metadata": {
        "id": "OTC1X3lZxrj9",
        "colab_type": "text"
      },
      "source": [
        "<h3> 2.2.2 Performance metric </h3>"
      ]
    },
    {
      "cell_type": "markdown",
      "metadata": {
        "id": "2zzpYin-xrj_",
        "colab_type": "text"
      },
      "source": [
        "<ul>\n",
        "<li> Mean Absolute Percentage Error: https://en.wikipedia.org/wiki/Mean_absolute_percentage_error </li>\n",
        "<li> Root Mean Square Error: https://en.wikipedia.org/wiki/Root-mean-square_deviation </li>\n",
        "</ul>\n"
      ]
    },
    {
      "cell_type": "markdown",
      "metadata": {
        "id": "ApZlKG6txrkB",
        "colab_type": "text"
      },
      "source": [
        "<h3> 2.2.3 Machine Learning Objective and Constraints </h3>"
      ]
    },
    {
      "cell_type": "markdown",
      "metadata": {
        "id": "nPmLCDJ3xrkC",
        "colab_type": "text"
      },
      "source": [
        "1. Minimize RMSE.\n",
        "2. Try to provide some interpretability."
      ]
    },
    {
      "cell_type": "code",
      "metadata": {
        "id": "HUp8j7pms95g",
        "colab_type": "code",
        "outputId": "571db5d2-3371-4409-9629-e30698f47598",
        "colab": {
          "base_uri": "https://localhost:8080/",
          "height": 34
        }
      },
      "source": [
        "from google.colab import drive # Mounting to drive. \n",
        "drive.mount('/content/drive')"
      ],
      "execution_count": 3,
      "outputs": [
        {
          "output_type": "stream",
          "text": [
            "Drive already mounted at /content/drive; to attempt to forcibly remount, call drive.mount(\"/content/drive\", force_remount=True).\n"
          ],
          "name": "stdout"
        }
      ]
    },
    {
      "cell_type": "code",
      "metadata": {
        "id": "gM-x_S9Ls2hO",
        "colab_type": "code",
        "outputId": "d54046d0-0df3-48df-c9dc-ae1204240628",
        "colab": {
          "base_uri": "https://localhost:8080/",
          "height": 52
        }
      },
      "source": [
        "df = pd.read_csv(open('drive/My Drive/Applied AI/data_folder/data.csv','rU'), sep=',', \n",
        "                       names=['movie', 'user','rating','date'])"
      ],
      "execution_count": 4,
      "outputs": [
        {
          "output_type": "stream",
          "text": [
            "/usr/local/lib/python3.6/dist-packages/ipykernel_launcher.py:1: DeprecationWarning: 'U' mode is deprecated\n",
            "  \"\"\"Entry point for launching an IPython kernel.\n"
          ],
          "name": "stderr"
        }
      ]
    },
    {
      "cell_type": "markdown",
      "metadata": {
        "id": "lVyeqDMqxrkO",
        "colab_type": "text"
      },
      "source": [
        "<h1> 3. Exploratory Data Analysis </h1>"
      ]
    },
    {
      "cell_type": "markdown",
      "metadata": {
        "id": "hOBwSU1yxrkP",
        "colab_type": "text"
      },
      "source": [
        "<h2> 3.1 Preprocessing</h2> "
      ]
    },
    {
      "cell_type": "markdown",
      "metadata": {
        "id": "e6rSOBxIxrkR",
        "colab_type": "text"
      },
      "source": [
        "<h3>3.1.1 Converting / Merging whole data to required format</h3>"
      ]
    },
    {
      "cell_type": "code",
      "metadata": {
        "id": "kivXgr8WvECx",
        "colab_type": "code",
        "outputId": "e9264425-3bb1-409c-8738-d690338bf7bd",
        "colab": {
          "base_uri": "https://localhost:8080/",
          "height": 199
        }
      },
      "source": [
        "df.sort_values(by='date', inplace=True)\n",
        "df.head()"
      ],
      "execution_count": 5,
      "outputs": [
        {
          "output_type": "execute_result",
          "data": {
            "text/html": [
              "<div>\n",
              "<style scoped>\n",
              "    .dataframe tbody tr th:only-of-type {\n",
              "        vertical-align: middle;\n",
              "    }\n",
              "\n",
              "    .dataframe tbody tr th {\n",
              "        vertical-align: top;\n",
              "    }\n",
              "\n",
              "    .dataframe thead th {\n",
              "        text-align: right;\n",
              "    }\n",
              "</style>\n",
              "<table border=\"1\" class=\"dataframe\">\n",
              "  <thead>\n",
              "    <tr style=\"text-align: right;\">\n",
              "      <th></th>\n",
              "      <th>movie</th>\n",
              "      <th>user</th>\n",
              "      <th>rating</th>\n",
              "      <th>date</th>\n",
              "    </tr>\n",
              "  </thead>\n",
              "  <tbody>\n",
              "    <tr>\n",
              "      <th>56431994</th>\n",
              "      <td>10341</td>\n",
              "      <td>510180</td>\n",
              "      <td>4</td>\n",
              "      <td>1999-11-11</td>\n",
              "    </tr>\n",
              "    <tr>\n",
              "      <th>9056171</th>\n",
              "      <td>1798</td>\n",
              "      <td>510180</td>\n",
              "      <td>5</td>\n",
              "      <td>1999-11-11</td>\n",
              "    </tr>\n",
              "    <tr>\n",
              "      <th>58698779</th>\n",
              "      <td>10774</td>\n",
              "      <td>510180</td>\n",
              "      <td>3</td>\n",
              "      <td>1999-11-11</td>\n",
              "    </tr>\n",
              "    <tr>\n",
              "      <th>48101611</th>\n",
              "      <td>8651</td>\n",
              "      <td>510180</td>\n",
              "      <td>2</td>\n",
              "      <td>1999-11-11</td>\n",
              "    </tr>\n",
              "    <tr>\n",
              "      <th>81893208</th>\n",
              "      <td>14660</td>\n",
              "      <td>510180</td>\n",
              "      <td>2</td>\n",
              "      <td>1999-11-11</td>\n",
              "    </tr>\n",
              "  </tbody>\n",
              "</table>\n",
              "</div>"
            ],
            "text/plain": [
              "          movie    user  rating        date\n",
              "56431994  10341  510180       4  1999-11-11\n",
              "9056171    1798  510180       5  1999-11-11\n",
              "58698779  10774  510180       3  1999-11-11\n",
              "48101611   8651  510180       2  1999-11-11\n",
              "81893208  14660  510180       2  1999-11-11"
            ]
          },
          "metadata": {
            "tags": []
          },
          "execution_count": 5
        }
      ]
    },
    {
      "cell_type": "code",
      "metadata": {
        "id": "MSqsFqgtvqR8",
        "colab_type": "code",
        "outputId": "11d35e1e-b9bb-4942-b878-a6690664395c",
        "colab": {
          "base_uri": "https://localhost:8080/",
          "height": 175
        }
      },
      "source": [
        "df.describe()['rating']"
      ],
      "execution_count": 7,
      "outputs": [
        {
          "output_type": "execute_result",
          "data": {
            "text/plain": [
              "count    1.004805e+08\n",
              "mean     3.604290e+00\n",
              "std      1.085219e+00\n",
              "min      1.000000e+00\n",
              "25%      3.000000e+00\n",
              "50%      4.000000e+00\n",
              "75%      4.000000e+00\n",
              "max      5.000000e+00\n",
              "Name: rating, dtype: float64"
            ]
          },
          "metadata": {
            "tags": []
          },
          "execution_count": 7
        }
      ]
    },
    {
      "cell_type": "markdown",
      "metadata": {
        "id": "O6Jh9hMUxrky",
        "colab_type": "text"
      },
      "source": [
        "<h3>3.1.2 Checking for NaN values </h3>"
      ]
    },
    {
      "cell_type": "code",
      "metadata": {
        "id": "86sBAuGIyQL2",
        "colab_type": "code",
        "outputId": "133e240f-870a-469c-b026-b12770f1d33b",
        "colab": {
          "base_uri": "https://localhost:8080/",
          "height": 34
        }
      },
      "source": [
        "print('Nan Values in our dataframe:', sum(df.isnull().any()))"
      ],
      "execution_count": 8,
      "outputs": [
        {
          "output_type": "stream",
          "text": [
            "Nan Values in our dataframe: 0\n"
          ],
          "name": "stdout"
        }
      ]
    },
    {
      "cell_type": "markdown",
      "metadata": {
        "id": "QofEYR63xrk9",
        "colab_type": "text"
      },
      "source": [
        "<h3>3.1.3 Removing Duplicates </h3>"
      ]
    },
    {
      "cell_type": "code",
      "metadata": {
        "id": "RyQ1GrORymRd",
        "colab_type": "code",
        "outputId": "e1d9c37c-bd1f-44bf-8f7d-d3dbffd6375a",
        "colab": {
          "base_uri": "https://localhost:8080/",
          "height": 34
        }
      },
      "source": [
        "duplicate_check = df.duplicated(['movie', 'user', 'rating'])\n",
        "duplic = sum(duplicate_check)\n",
        "print('There are {} duplicates in the dataframe'.format(duplic))"
      ],
      "execution_count": 9,
      "outputs": [
        {
          "output_type": "stream",
          "text": [
            "There are 0 duplicates in the dataframe\n"
          ],
          "name": "stdout"
        }
      ]
    },
    {
      "cell_type": "markdown",
      "metadata": {
        "id": "OhrBQacmxrlM",
        "colab_type": "text"
      },
      "source": [
        " <h3>3.1.4 Basic Statistics (#Ratings, #Users, and #Movies)</h3>"
      ]
    },
    {
      "cell_type": "code",
      "metadata": {
        "id": "CGC5ecVKzdHf",
        "colab_type": "code",
        "outputId": "80374b53-4434-4901-ebf6-f6255e71af0f",
        "colab": {
          "base_uri": "https://localhost:8080/",
          "height": 70
        }
      },
      "source": [
        "print('Total no of ratings', df.shape[0])\n",
        "print('No of Users', len(np.unique(df.user)))\n",
        "print('No of Movies', len(np.unique(df.movie)))"
      ],
      "execution_count": 10,
      "outputs": [
        {
          "output_type": "stream",
          "text": [
            "Total no of ratings 100480507\n",
            "No of Users 480189\n",
            "No of Movies 17770\n"
          ],
          "name": "stdout"
        }
      ]
    },
    {
      "cell_type": "markdown",
      "metadata": {
        "id": "FIduSZiexrlW",
        "colab_type": "text"
      },
      "source": [
        "<h2>3.2 Spliting data into Train and Test(80:20) </h2>"
      ]
    },
    {
      "cell_type": "code",
      "metadata": {
        "id": "nRWY6ZRB8EM9",
        "colab_type": "code",
        "colab": {}
      },
      "source": [
        "if not os.path.isfile('train.csv'):\n",
        "    # create the dataframe and store it in the disk for offline purposes..\n",
        "    df.iloc[:int(df.shape[0]*0.80)].to_csv(\"train.csv\", index=False)\n",
        "\n",
        "if not os.path.isfile('test.csv'):\n",
        "    # create the dataframe and store it in the disk for offline purposes..\n",
        "    df.iloc[int(df.shape[0]*0.80):].to_csv(\"test.csv\", index=False)"
      ],
      "execution_count": 0,
      "outputs": []
    },
    {
      "cell_type": "code",
      "metadata": {
        "id": "cJi_y9tA0pUv",
        "colab_type": "code",
        "colab": {}
      },
      "source": [
        "train_df = pd.read_csv('train.csv', parse_dates=['date'])\n",
        "test_df = pd.read_csv('test.csv')"
      ],
      "execution_count": 0,
      "outputs": []
    },
    {
      "cell_type": "code",
      "metadata": {
        "id": "5HelCKAF12UD",
        "colab_type": "code",
        "outputId": "da09dfa9-2666-4da5-bf0d-e15e208e5e32",
        "colab": {
          "base_uri": "https://localhost:8080/",
          "height": 199
        }
      },
      "source": [
        "train_df.head()"
      ],
      "execution_count": 9,
      "outputs": [
        {
          "output_type": "execute_result",
          "data": {
            "text/html": [
              "<div>\n",
              "<style scoped>\n",
              "    .dataframe tbody tr th:only-of-type {\n",
              "        vertical-align: middle;\n",
              "    }\n",
              "\n",
              "    .dataframe tbody tr th {\n",
              "        vertical-align: top;\n",
              "    }\n",
              "\n",
              "    .dataframe thead th {\n",
              "        text-align: right;\n",
              "    }\n",
              "</style>\n",
              "<table border=\"1\" class=\"dataframe\">\n",
              "  <thead>\n",
              "    <tr style=\"text-align: right;\">\n",
              "      <th></th>\n",
              "      <th>movie</th>\n",
              "      <th>user</th>\n",
              "      <th>rating</th>\n",
              "      <th>date</th>\n",
              "    </tr>\n",
              "  </thead>\n",
              "  <tbody>\n",
              "    <tr>\n",
              "      <th>0</th>\n",
              "      <td>10341</td>\n",
              "      <td>510180</td>\n",
              "      <td>4</td>\n",
              "      <td>1999-11-11</td>\n",
              "    </tr>\n",
              "    <tr>\n",
              "      <th>1</th>\n",
              "      <td>1798</td>\n",
              "      <td>510180</td>\n",
              "      <td>5</td>\n",
              "      <td>1999-11-11</td>\n",
              "    </tr>\n",
              "    <tr>\n",
              "      <th>2</th>\n",
              "      <td>10774</td>\n",
              "      <td>510180</td>\n",
              "      <td>3</td>\n",
              "      <td>1999-11-11</td>\n",
              "    </tr>\n",
              "    <tr>\n",
              "      <th>3</th>\n",
              "      <td>8651</td>\n",
              "      <td>510180</td>\n",
              "      <td>2</td>\n",
              "      <td>1999-11-11</td>\n",
              "    </tr>\n",
              "    <tr>\n",
              "      <th>4</th>\n",
              "      <td>14660</td>\n",
              "      <td>510180</td>\n",
              "      <td>2</td>\n",
              "      <td>1999-11-11</td>\n",
              "    </tr>\n",
              "  </tbody>\n",
              "</table>\n",
              "</div>"
            ],
            "text/plain": [
              "   movie    user  rating       date\n",
              "0  10341  510180       4 1999-11-11\n",
              "1   1798  510180       5 1999-11-11\n",
              "2  10774  510180       3 1999-11-11\n",
              "3   8651  510180       2 1999-11-11\n",
              "4  14660  510180       2 1999-11-11"
            ]
          },
          "metadata": {
            "tags": []
          },
          "execution_count": 9
        }
      ]
    },
    {
      "cell_type": "markdown",
      "metadata": {
        "id": "SCT91Uw5xrld",
        "colab_type": "text"
      },
      "source": [
        "<h3>3.2.1 Basic Statistics in Train data (#Ratings, #Users, and #Movies)</h3>"
      ]
    },
    {
      "cell_type": "code",
      "metadata": {
        "id": "aTlF4JfXBbly",
        "colab_type": "code",
        "outputId": "e22f1bfd-6496-4988-a397-0aab2495f1a9",
        "colab": {
          "base_uri": "https://localhost:8080/",
          "height": 70
        }
      },
      "source": [
        "print('Total no of ratings', train_df.shape[0])\n",
        "print('No of Users', len(np.unique(train_df.user)))\n",
        "print('No of Movies', len(np.unique(train_df.movie)))"
      ],
      "execution_count": 10,
      "outputs": [
        {
          "output_type": "stream",
          "text": [
            "Total no of ratings 80384405\n",
            "No of Users 405041\n",
            "No of Movies 17424\n"
          ],
          "name": "stdout"
        }
      ]
    },
    {
      "cell_type": "code",
      "metadata": {
        "id": "PjyEg2W4KZ2R",
        "colab_type": "code",
        "outputId": "0961c844-1e19-45ff-bba1-a9b9a909739a",
        "colab": {
          "base_uri": "https://localhost:8080/",
          "height": 70
        }
      },
      "source": [
        "print('Total no of ratings', test_df.shape[0])\n",
        "print('No of Users', len(np.unique(test_df.user)))\n",
        "print('No of Movies', len(np.unique(test_df.movie)))"
      ],
      "execution_count": 15,
      "outputs": [
        {
          "output_type": "stream",
          "text": [
            "Total no of ratings 20096102\n",
            "No of Users 349312\n",
            "No of Movies 17757\n"
          ],
          "name": "stdout"
        }
      ]
    },
    {
      "cell_type": "markdown",
      "metadata": {
        "id": "a_tk9Btvxrlq",
        "colab_type": "text"
      },
      "source": [
        " <h2> 3.3 Exploratory Data Analysis on Train data </h2>"
      ]
    },
    {
      "cell_type": "code",
      "metadata": {
        "id": "7wphuJ0zMRDI",
        "colab_type": "code",
        "colab": {}
      },
      "source": [
        "def human(num, units):\n",
        "  units = units.lower()\n",
        "  num = float(num)\n",
        "  if units == 'k':\n",
        "    return str(num/10**3) + 'K'\n",
        "  elif units == 'm':\n",
        "    return str(num/10**6) + 'M'\n",
        "  elif units == 'b':\n",
        "    return str(num/10**9) + 'B'"
      ],
      "execution_count": 0,
      "outputs": []
    },
    {
      "cell_type": "code",
      "metadata": {
        "id": "wJzKVLgIM-0R",
        "colab_type": "code",
        "outputId": "66017bf6-df6f-4fba-e00c-d104f4017916",
        "colab": {
          "base_uri": "https://localhost:8080/",
          "height": 34
        }
      },
      "source": [
        "human(10700, 'k')"
      ],
      "execution_count": 17,
      "outputs": [
        {
          "output_type": "execute_result",
          "data": {
            "text/plain": [
              "'10.7K'"
            ]
          },
          "metadata": {
            "tags": []
          },
          "execution_count": 17
        }
      ]
    },
    {
      "cell_type": "markdown",
      "metadata": {
        "id": "m3SE677Jxrl0",
        "colab_type": "text"
      },
      "source": [
        "<h3> 3.3.1 Distribution of ratings </h3>"
      ]
    },
    {
      "cell_type": "code",
      "metadata": {
        "id": "_rs5pAKqN7TV",
        "colab_type": "code",
        "outputId": "9f45d184-1910-4e1f-cef9-f98b3bca2342",
        "colab": {
          "base_uri": "https://localhost:8080/",
          "height": 297
        }
      },
      "source": [
        "fig, ax = plt.subplots()\n",
        "plt.title('Distribution of ratings over training set', fontsize = 15)\n",
        "sns.countplot(x = 'rating', data = train_df)\n",
        "ax.set_yticklabels([human(item, 'M') for item in ax.get_yticks()])\n",
        "ax.set_ylabel('No of ratings(Millions)')\n",
        "\n",
        "plt.show()"
      ],
      "execution_count": 18,
      "outputs": [
        {
          "output_type": "display_data",
          "data": {
            "image/png": "[encoded data removed]",
            "text/plain": [
              "<Figure size 432x288 with 1 Axes>"
            ]
          },
          "metadata": {
            "tags": []
          }
        }
      ]
    },
    {
      "cell_type": "markdown",
      "metadata": {
        "id": "iuHfNIS7xrl9",
        "colab_type": "text"
      },
      "source": [
        "<p style=\"font-size:13px\"> <b>Add new column (week day) to the data set  for analysis.</b></p>"
      ]
    },
    {
      "cell_type": "code",
      "metadata": {
        "id": "13EhZSQlO0yV",
        "colab_type": "code",
        "outputId": "1548b77a-a59f-48f8-e399-7182c7b2d408",
        "colab": {
          "base_uri": "https://localhost:8080/",
          "height": 199
        }
      },
      "source": [
        "pd.options.mode.chained_assignment = None\n",
        "\n",
        "train_df['day_of_week'] = train_df['date'].dt.day_name()\n",
        "train_df.tail()"
      ],
      "execution_count": 12,
      "outputs": [
        {
          "output_type": "execute_result",
          "data": {
            "text/html": [
              "<div>\n",
              "<style scoped>\n",
              "    .dataframe tbody tr th:only-of-type {\n",
              "        vertical-align: middle;\n",
              "    }\n",
              "\n",
              "    .dataframe tbody tr th {\n",
              "        vertical-align: top;\n",
              "    }\n",
              "\n",
              "    .dataframe thead th {\n",
              "        text-align: right;\n",
              "    }\n",
              "</style>\n",
              "<table border=\"1\" class=\"dataframe\">\n",
              "  <thead>\n",
              "    <tr style=\"text-align: right;\">\n",
              "      <th></th>\n",
              "      <th>movie</th>\n",
              "      <th>user</th>\n",
              "      <th>rating</th>\n",
              "      <th>date</th>\n",
              "      <th>day_of_week</th>\n",
              "    </tr>\n",
              "  </thead>\n",
              "  <tbody>\n",
              "    <tr>\n",
              "      <th>80384400</th>\n",
              "      <td>12074</td>\n",
              "      <td>2033618</td>\n",
              "      <td>4</td>\n",
              "      <td>2005-08-08</td>\n",
              "      <td>Monday</td>\n",
              "    </tr>\n",
              "    <tr>\n",
              "      <th>80384401</th>\n",
              "      <td>862</td>\n",
              "      <td>1797061</td>\n",
              "      <td>3</td>\n",
              "      <td>2005-08-08</td>\n",
              "      <td>Monday</td>\n",
              "    </tr>\n",
              "    <tr>\n",
              "      <th>80384402</th>\n",
              "      <td>10986</td>\n",
              "      <td>1498715</td>\n",
              "      <td>5</td>\n",
              "      <td>2005-08-08</td>\n",
              "      <td>Monday</td>\n",
              "    </tr>\n",
              "    <tr>\n",
              "      <th>80384403</th>\n",
              "      <td>14861</td>\n",
              "      <td>500016</td>\n",
              "      <td>4</td>\n",
              "      <td>2005-08-08</td>\n",
              "      <td>Monday</td>\n",
              "    </tr>\n",
              "    <tr>\n",
              "      <th>80384404</th>\n",
              "      <td>5926</td>\n",
              "      <td>1044015</td>\n",
              "      <td>5</td>\n",
              "      <td>2005-08-08</td>\n",
              "      <td>Monday</td>\n",
              "    </tr>\n",
              "  </tbody>\n",
              "</table>\n",
              "</div>"
            ],
            "text/plain": [
              "          movie     user  rating       date day_of_week\n",
              "80384400  12074  2033618       4 2005-08-08      Monday\n",
              "80384401    862  1797061       3 2005-08-08      Monday\n",
              "80384402  10986  1498715       5 2005-08-08      Monday\n",
              "80384403  14861   500016       4 2005-08-08      Monday\n",
              "80384404   5926  1044015       5 2005-08-08      Monday"
            ]
          },
          "metadata": {
            "tags": []
          },
          "execution_count": 12
        }
      ]
    },
    {
      "cell_type": "markdown",
      "metadata": {
        "id": "uLqBOfOkxrmE",
        "colab_type": "text"
      },
      "source": [
        "<h3> 3.3.2 Number of Ratings per a month </h3>"
      ]
    },
    {
      "cell_type": "code",
      "metadata": {
        "id": "TNFG8W4iZltY",
        "colab_type": "code",
        "outputId": "240734e2-3e6a-499c-b226-31f583757ca1",
        "colab": {
          "base_uri": "https://localhost:8080/",
          "height": 295
        }
      },
      "source": [
        "ax = train_df.resample('m', on='date')['rating'].count().plot()\n",
        "ax.set_title('No of ratings per month (Training data)')\n",
        "plt.xlabel('Month')\n",
        "plt.ylabel('No of ratings(per month)')\n",
        "ax.set_yticklabels([human(item, 'm') for item in ax.get_yticks()])\n",
        "plt.show()"
      ],
      "execution_count": 20,
      "outputs": [
        {
          "output_type": "display_data",
          "data": {
            "image/png": "[encoded data removed]",
            "text/plain": [
              "<Figure size 432x288 with 1 Axes>"
            ]
          },
          "metadata": {
            "tags": []
          }
        }
      ]
    },
    {
      "cell_type": "code",
      "metadata": {
        "id": "j2XKpMTpiq2X",
        "colab_type": "code",
        "colab": {}
      },
      "source": [
        "a = train_df.resample('m', on='date')['rating'].count()"
      ],
      "execution_count": 0,
      "outputs": []
    },
    {
      "cell_type": "code",
      "metadata": {
        "id": "UWIJuH2ZhxSO",
        "colab_type": "code",
        "outputId": "17adf452-e0ab-44a1-d03b-9c803b2e714d",
        "colab": {
          "base_uri": "https://localhost:8080/",
          "height": 210
        }
      },
      "source": [
        "for i in range(0,100,10):  \n",
        "  var = a.values\n",
        "  #var = np.sort(var, axis=None)\n",
        "  print('{} percentile value is {}'.format(i, var[int(len(var)* float(i/100))]))\n",
        "print (\"100 percentile value is \",var[-1])"
      ],
      "execution_count": 22,
      "outputs": [
        {
          "output_type": "stream",
          "text": [
            "0 percentile value is 28\n",
            "10 percentile value is 54327\n",
            "20 percentile value is 157111\n",
            "30 percentile value is 145962\n",
            "40 percentile value is 363723\n",
            "50 percentile value is 456118\n",
            "60 percentile value is 733769\n",
            "70 percentile value is 1295785\n",
            "80 percentile value is 2463521\n",
            "90 percentile value is 4104160\n",
            "100 percentile value is  1246468\n"
          ],
          "name": "stdout"
        }
      ]
    },
    {
      "cell_type": "code",
      "metadata": {
        "id": "lF1FKUKsjXvD",
        "colab_type": "code",
        "outputId": "64dec480-5741-49eb-d61d-4b9ddbfbb724",
        "colab": {
          "base_uri": "https://localhost:8080/",
          "height": 210
        }
      },
      "source": [
        "for i in range(90,100):  \n",
        "  var = a.values\n",
        "  #var = np.sort(var, axis=None)\n",
        "  print('{} percentile value is {}'.format(i, var[int(len(var)* float(i/100))]))\n",
        "print (\"100 percentile value is \",var[-1])"
      ],
      "execution_count": 23,
      "outputs": [
        {
          "output_type": "stream",
          "text": [
            "90 percentile value is 4104160\n",
            "91 percentile value is 4104160\n",
            "92 percentile value is 4310242\n",
            "93 percentile value is 4163988\n",
            "94 percentile value is 4163988\n",
            "95 percentile value is 4388899\n",
            "96 percentile value is 5296431\n",
            "97 percentile value is 5296431\n",
            "98 percentile value is 4945586\n",
            "99 percentile value is 1246468\n",
            "100 percentile value is  1246468\n"
          ],
          "name": "stdout"
        }
      ]
    },
    {
      "cell_type": "markdown",
      "metadata": {
        "id": "Rm4JZhKixrmN",
        "colab_type": "text"
      },
      "source": [
        "<h3> 3.3.3 Analysis on the Ratings given by user </h3>"
      ]
    },
    {
      "cell_type": "code",
      "metadata": {
        "id": "FGvVWzrgpgb8",
        "colab_type": "code",
        "outputId": "65b23cd4-dc38-4e4b-d90f-b0dc36b91c69",
        "colab": {
          "base_uri": "https://localhost:8080/",
          "height": 140
        }
      },
      "source": [
        "no_of_movies_rated_by_user = train_df.groupby(by='user')['rating'].count().sort_values(ascending=False)\n",
        "no_of_movies_rated_by_user.head()"
      ],
      "execution_count": 24,
      "outputs": [
        {
          "output_type": "execute_result",
          "data": {
            "text/plain": [
              "user\n",
              "305344     17112\n",
              "2439493    15896\n",
              "387418     15402\n",
              "1639792     9767\n",
              "1461435     9447\n",
              "Name: rating, dtype: int64"
            ]
          },
          "metadata": {
            "tags": []
          },
          "execution_count": 24
        }
      ]
    },
    {
      "cell_type": "code",
      "metadata": {
        "id": "o27H6FQYp72g",
        "colab_type": "code",
        "outputId": "d4d6aff8-008c-4778-f584-20c6904ff7c2",
        "colab": {
          "base_uri": "https://localhost:8080/",
          "height": 313
        }
      },
      "source": [
        "fig = plt.figure(figsize=plt.figaspect(0.5))\n",
        "\n",
        "ax1 = plt.subplot(121)\n",
        "sns.kdeplot(no_of_movies_rated_by_user, shade=True, ax=ax1)\n",
        "plt.xlabel('no of rating per user')\n",
        "plt.title('PDF')\n",
        "\n",
        "ax2 = plt.subplot(122)\n",
        "sns.kdeplot(no_of_movies_rated_by_user, shade=True, cumulative=True, ax=ax2)\n",
        "plt.xlabel('no of rating per user')\n",
        "plt.title('CDF')"
      ],
      "execution_count": 25,
      "outputs": [
        {
          "output_type": "execute_result",
          "data": {
            "text/plain": [
              "Text(0.5, 1.0, 'CDF')"
            ]
          },
          "metadata": {
            "tags": []
          },
          "execution_count": 25
        },
        {
          "output_type": "display_data",
          "data": {
            "image/png": "[encoded data removed]",
            "text/plain": [
              "<Figure size 576x288 with 2 Axes>"
            ]
          },
          "metadata": {
            "tags": []
          }
        }
      ]
    },
    {
      "cell_type": "code",
      "metadata": {
        "id": "khqPSDrTrAkR",
        "colab_type": "code",
        "outputId": "3ca4f774-5ab6-418e-bcb2-f5c44ec2d84a",
        "colab": {
          "base_uri": "https://localhost:8080/",
          "height": 175
        }
      },
      "source": [
        "no_of_movies_rated_by_user.describe()"
      ],
      "execution_count": 26,
      "outputs": [
        {
          "output_type": "execute_result",
          "data": {
            "text/plain": [
              "count    405041.000000\n",
              "mean        198.459921\n",
              "std         290.793238\n",
              "min           1.000000\n",
              "25%          34.000000\n",
              "50%          89.000000\n",
              "75%         245.000000\n",
              "max       17112.000000\n",
              "Name: rating, dtype: float64"
            ]
          },
          "metadata": {
            "tags": []
          },
          "execution_count": 26
        }
      ]
    },
    {
      "cell_type": "code",
      "metadata": {
        "id": "AHxWfILswR9_",
        "colab_type": "code",
        "colab": {}
      },
      "source": [
        "quantiles = no_of_movies_rated_by_user.quantile(np.arange(0,1.01,0.01), interpolation='higher')"
      ],
      "execution_count": 0,
      "outputs": []
    },
    {
      "cell_type": "code",
      "metadata": {
        "id": "kOykleR-ygqz",
        "colab_type": "code",
        "outputId": "78d952cb-3664-485c-8d00-7348f07d7796",
        "colab": {
          "base_uri": "https://localhost:8080/",
          "height": 295
        }
      },
      "source": [
        "plt.title(\"Quantiles and their Values\")\n",
        "quantiles.plot()\n",
        "# quantiles with 0.05 difference\n",
        "plt.scatter(x=quantiles.index[::5], y=quantiles.values[::5], c='orange', label=\"quantiles with 0.05 intervals\")\n",
        "# quantiles with 0.25 difference\n",
        "plt.scatter(x=quantiles.index[::25], y=quantiles.values[::25], c='m', label = \"quantiles with 0.25 intervals\")\n",
        "plt.ylabel('No of ratings by user')\n",
        "plt.xlabel('Value at the quantile')\n",
        "plt.legend(loc='best')\n",
        "\n",
        "# annotate the 25th, 50th, 75th and 100th percentile values....\n",
        "for x,y in zip(quantiles.index[::25], quantiles[::25]):\n",
        "    plt.annotate(s=\"({} , {})\".format(x,y), xy=(x,y), xytext=(x-0.05, y+500)\n",
        "                ,fontweight='bold')\n",
        "\n",
        "\n",
        "plt.show()"
      ],
      "execution_count": 28,
      "outputs": [
        {
          "output_type": "display_data",
          "data": {
            "image/png": "[encoded data removed]",
            "text/plain": [
              "<Figure size 432x288 with 1 Axes>"
            ]
          },
          "metadata": {
            "tags": []
          }
        }
      ]
    },
    {
      "cell_type": "code",
      "metadata": {
        "id": "7NzJUhWKy_R4",
        "colab_type": "code",
        "outputId": "07c55d56-be85-437e-ab84-848bbc177528",
        "colab": {
          "base_uri": "https://localhost:8080/",
          "height": 403
        }
      },
      "source": [
        "quantiles[::5]"
      ],
      "execution_count": 29,
      "outputs": [
        {
          "output_type": "execute_result",
          "data": {
            "text/plain": [
              "0.00        1\n",
              "0.05        7\n",
              "0.10       15\n",
              "0.15       21\n",
              "0.20       27\n",
              "0.25       34\n",
              "0.30       41\n",
              "0.35       50\n",
              "0.40       60\n",
              "0.45       73\n",
              "0.50       89\n",
              "0.55      109\n",
              "0.60      133\n",
              "0.65      163\n",
              "0.70      199\n",
              "0.75      245\n",
              "0.80      307\n",
              "0.85      392\n",
              "0.90      520\n",
              "0.95      749\n",
              "1.00    17112\n",
              "Name: rating, dtype: int64"
            ]
          },
          "metadata": {
            "tags": []
          },
          "execution_count": 29
        }
      ]
    },
    {
      "cell_type": "markdown",
      "metadata": {
        "id": "_evJBswjxrm2",
        "colab_type": "text"
      },
      "source": [
        "__how many ratings at the last 5% of all ratings__??"
      ]
    },
    {
      "cell_type": "code",
      "metadata": {
        "id": "mVQWY26szEFO",
        "colab_type": "code",
        "outputId": "89fb71ec-c00b-4a88-d9fe-d14797f5d547",
        "colab": {
          "base_uri": "https://localhost:8080/",
          "height": 34
        }
      },
      "source": [
        "print('No of ratings given by 5 percentile user {}'.format(sum(no_of_movies_rated_by_user > 749)))"
      ],
      "execution_count": 30,
      "outputs": [
        {
          "output_type": "stream",
          "text": [
            "No of ratings given by 5 percentile user 20242\n"
          ],
          "name": "stdout"
        }
      ]
    },
    {
      "cell_type": "markdown",
      "metadata": {
        "id": "uhqHW352xrm9",
        "colab_type": "text"
      },
      "source": [
        "<h3> 3.3.4 Analysis of ratings of a movie given by a user </h3>"
      ]
    },
    {
      "cell_type": "code",
      "metadata": {
        "id": "ayBSilhhzTdt",
        "colab_type": "code",
        "outputId": "58b7c863-d2cd-4eaa-8716-8ce6157eace8",
        "colab": {
          "base_uri": "https://localhost:8080/",
          "height": 285
        }
      },
      "source": [
        "no_of_ratings_per_movie = train_df.groupby(by='movie')['rating'].count().sort_values(ascending=True)\n",
        "\n",
        "fig = plt.figure(figsize=plt.figaspect(0.5))\n",
        "ax = plt.gca()\n",
        "plt.plot(no_of_ratings_per_movie.values)\n",
        "plt.title('# RATINGS per Movie')\n",
        "plt.xlabel('Movie')\n",
        "plt.ylabel('No of Users who rated a movie')\n",
        "ax.set_xticklabels([])\n",
        "\n",
        "plt.show()"
      ],
      "execution_count": 31,
      "outputs": [
        {
          "output_type": "display_data",
          "data": {
            "image/png": "[encoded data removed]",
            "text/plain": [
              "<Figure size 576x288 with 1 Axes>"
            ]
          },
          "metadata": {
            "tags": []
          }
        }
      ]
    },
    {
      "cell_type": "markdown",
      "metadata": {
        "id": "Wpq4_qXOxrnF",
        "colab_type": "text"
      },
      "source": [
        "- __It is very skewed.. just like nunmber of ratings given per user.__\n",
        "    \n",
        "    \n",
        "    - There are some movies (which are very popular) which are rated by huge number of users.\n",
        "    \n",
        "    - But most of the movies(like 90%) got some hundereds of ratings."
      ]
    },
    {
      "cell_type": "markdown",
      "metadata": {
        "id": "F6ZrsYiIxrnH",
        "colab_type": "text"
      },
      "source": [
        "<h3> 3.3.5 Number of ratings on each day of the week</h3>"
      ]
    },
    {
      "cell_type": "code",
      "metadata": {
        "id": "iwnB0wLM6M4A",
        "colab_type": "code",
        "outputId": "1f3f27c7-1dac-4422-d36e-87c4e7f28b48",
        "colab": {
          "base_uri": "https://localhost:8080/",
          "height": 281
        }
      },
      "source": [
        "fig, ax = plt.subplots()\n",
        "\n",
        "sns.countplot(x='day_of_week', data=train_df, ax=ax)\n",
        "plt.title('No of ratings on each day...')\n",
        "plt.ylabel('Total no of ratings')\n",
        "plt.xlabel('')\n",
        "ax.set_yticklabels([human(item, 'M') for item in ax.get_yticks()])\n",
        "plt.show()"
      ],
      "execution_count": 32,
      "outputs": [
        {
          "output_type": "display_data",
          "data": {
            "image/png": "[encoded data removed]",
            "text/plain": [
              "<Figure size 432x288 with 1 Axes>"
            ]
          },
          "metadata": {
            "tags": []
          }
        }
      ]
    },
    {
      "cell_type": "code",
      "metadata": {
        "id": "KZ1gG_956mRk",
        "colab_type": "code",
        "outputId": "64288ec5-212b-4f35-a0d4-fde92b712fe0",
        "colab": {
          "base_uri": "https://localhost:8080/",
          "height": 280
        }
      },
      "source": [
        "fig = plt.figure(figsize=plt.figaspect(0.45))\n",
        "sns.boxplot(x='day_of_week', y='rating', data=train_df)\n",
        "plt.show()"
      ],
      "execution_count": 33,
      "outputs": [
        {
          "output_type": "display_data",
          "data": {
            "image/png": "[encoded data removed]",
            "text/plain": [
              "<Figure size 640x288 with 1 Axes>"
            ]
          },
          "metadata": {
            "tags": []
          }
        }
      ]
    },
    {
      "cell_type": "code",
      "metadata": {
        "id": "EIKq1-5N7QB1",
        "colab_type": "code",
        "outputId": "ce1b102b-adef-409a-e5e0-f840dd60252b",
        "colab": {
          "base_uri": "https://localhost:8080/",
          "height": 175
        }
      },
      "source": [
        "avg_week_df = train_df.groupby(by=['day_of_week'])['rating'].mean()\n",
        "print(avg_week_df)"
      ],
      "execution_count": 34,
      "outputs": [
        {
          "output_type": "stream",
          "text": [
            "day_of_week\n",
            "Friday       3.585274\n",
            "Monday       3.577250\n",
            "Saturday     3.591791\n",
            "Sunday       3.594144\n",
            "Thursday     3.582463\n",
            "Tuesday      3.574438\n",
            "Wednesday    3.583751\n",
            "Name: rating, dtype: float64\n"
          ],
          "name": "stdout"
        }
      ]
    },
    {
      "cell_type": "markdown",
      "metadata": {
        "colab_type": "text",
        "id": "qLxG9fbLoDS5"
      },
      "source": [
        "<h3> 3.3.5 Number of ratings on each day of the week</h3>"
      ]
    },
    {
      "cell_type": "markdown",
      "metadata": {
        "collapsed": true,
        "id": "Cd1Mv38GxrnX",
        "colab_type": "text"
      },
      "source": [
        "<h3> 3.3.6 Creating sparse matrix from data frame </h3>"
      ]
    },
    {
      "cell_type": "code",
      "metadata": {
        "id": "b5-qJ-of8OAt",
        "colab_type": "code",
        "outputId": "f2c3520c-5e57-47e3-ca9f-d1834c1ba050",
        "colab": {
          "base_uri": "https://localhost:8080/",
          "height": 70
        }
      },
      "source": [
        "start = datetime.now()\n",
        "if os.path.isfile('train_sparse_matrix.npz'):\n",
        "    print(\"It is present in your pwd, getting it from disk....\")\n",
        "    # just get it from the disk instead of computing it\n",
        "    train_sparse_matrix = sparse.load_npz('train_sparse_matrix.npz')\n",
        "    print(\"DONE..\")\n",
        "else: \n",
        "    print(\"We are creating sparse_matrix from the dataframe..\")\n",
        "    # create sparse_matrix and store it for after usage.\n",
        "    # csr_matrix(data_values, (row_index, col_index), shape_of_matrix)\n",
        "    # It should be in such a way that, MATRIX[row, col] = data\n",
        "    train_sparse_matrix = sparse.csr_matrix((train_df.rating.values, (train_df.user.values,\n",
        "                                               train_df.movie.values)),)\n",
        "    \n",
        "    print('Done. It\\'s shape is : (user, movie) : ',train_sparse_matrix.shape)\n",
        "    print('Saving it into disk for furthur usage..')\n",
        "    # save it into disk\n",
        "    sparse.save_npz(\"train_sparse_matrix.npz\", train_sparse_matrix)\n",
        "    print('Done..\\n')\n",
        "\n",
        "print(datetime.now() - start)"
      ],
      "execution_count": 13,
      "outputs": [
        {
          "output_type": "stream",
          "text": [
            "It is present in your pwd, getting it from disk....\n",
            "DONE..\n",
            "0:00:04.321638\n"
          ],
          "name": "stdout"
        }
      ]
    },
    {
      "cell_type": "markdown",
      "metadata": {
        "id": "pC3exGbRxrne",
        "colab_type": "text"
      },
      "source": [
        "<p><b>The Sparsity of Train Sparse Matrix</b></p>"
      ]
    },
    {
      "cell_type": "code",
      "metadata": {
        "id": "OIKqzlEn9XXo",
        "colab_type": "code",
        "outputId": "75665550-3870-48dd-bf3c-f493ba766558",
        "colab": {
          "base_uri": "https://localhost:8080/",
          "height": 34
        }
      },
      "source": [
        "us, mv = train_sparse_matrix.shape\n",
        "elements = train_sparse_matrix.count_nonzero()\n",
        "\n",
        "print('Sparsity of Matrix:', (1 - (elements/(us*mv))) * 100)"
      ],
      "execution_count": 36,
      "outputs": [
        {
          "output_type": "stream",
          "text": [
            "Sparsity of Matrix: 99.8292709259195\n"
          ],
          "name": "stdout"
        }
      ]
    },
    {
      "cell_type": "markdown",
      "metadata": {
        "id": "SYOctHZ2xrnn",
        "colab_type": "text"
      },
      "source": [
        "<h4> 3.3.6.2 Creating sparse matrix from test data frame </h4>"
      ]
    },
    {
      "cell_type": "code",
      "metadata": {
        "id": "rAktC0rE9-vy",
        "colab_type": "code",
        "outputId": "fea471d2-5ab5-4992-8cbe-8414348564c6",
        "colab": {
          "base_uri": "https://localhost:8080/",
          "height": 70
        }
      },
      "source": [
        "start = datetime.now()\n",
        "if os.path.isfile('test_sparse_matrix.npz'):\n",
        "    print(\"It is present in your pwd, getting it from disk....\")\n",
        "    # just get it from the disk instead of computing it\n",
        "    test_sparse_matrix = sparse.load_npz('test_sparse_matrix.npz')\n",
        "    print(\"DONE..\")\n",
        "else: \n",
        "    print(\"We are creating sparse_matrix from the dataframe..\")\n",
        "    # create sparse_matrix and store it for after usage.\n",
        "    # csr_matrix(data_values, (row_index, col_index), shape_of_matrix)\n",
        "    # It should be in such a way that, MATRIX[row, col] = data\n",
        "    test_sparse_matrix = sparse.csr_matrix((test_df.rating.values, (test_df.user.values,\n",
        "                                               test_df.movie.values)))\n",
        "    \n",
        "    print('Done. It\\'s shape is : (user, movie) : ',test_sparse_matrix.shape)\n",
        "    print('Saving it into disk for furthur usage..')\n",
        "    # save it into disk\n",
        "    sparse.save_npz(\"test_sparse_matrix.npz\", test_sparse_matrix)\n",
        "    print('Done..\\n')\n",
        "    \n",
        "print(datetime.now() - start)"
      ],
      "execution_count": 14,
      "outputs": [
        {
          "output_type": "stream",
          "text": [
            "It is present in your pwd, getting it from disk....\n",
            "DONE..\n",
            "0:00:01.178850\n"
          ],
          "name": "stdout"
        }
      ]
    },
    {
      "cell_type": "markdown",
      "metadata": {
        "id": "p9J75aRtxrnu",
        "colab_type": "text"
      },
      "source": [
        "<p><b>The Sparsity of Test data Matrix</b></p>"
      ]
    },
    {
      "cell_type": "code",
      "metadata": {
        "id": "EOMdr6Qi-ZTy",
        "colab_type": "code",
        "outputId": "55ae2f2b-2382-43f7-e41a-b28af81081fb",
        "colab": {
          "base_uri": "https://localhost:8080/",
          "height": 34
        }
      },
      "source": [
        "us,mv = test_sparse_matrix.shape\n",
        "elem = test_sparse_matrix.count_nonzero()\n",
        "\n",
        "print(\"Sparsity Of Test matrix : {} % \".format(  (1-(elem/(us*mv))) * 100) )"
      ],
      "execution_count": 38,
      "outputs": [
        {
          "output_type": "stream",
          "text": [
            "Sparsity Of Test matrix : 99.95731772988694 % \n"
          ],
          "name": "stdout"
        }
      ]
    },
    {
      "cell_type": "markdown",
      "metadata": {
        "id": "uk90Yucuxrn3",
        "colab_type": "text"
      },
      "source": [
        "<h3>3.3.7 Finding Global average of all movie ratings, Average rating per user, and Average rating per movie</h3>"
      ]
    },
    {
      "cell_type": "code",
      "metadata": {
        "id": "vrGit8Mb-qQH",
        "colab_type": "code",
        "colab": {}
      },
      "source": [
        "def get_global_avg_rating(sparse_matrix, users):\n",
        "  ax = 1 if users else 0\n",
        "  sum_of_ratings = sparse_matrix.sum(axis=ax).A1\n",
        "  is_rated = sparse_matrix != 0\n",
        "  no_of_ratings = is_rated.sum(axis=ax).A1\n",
        "  u, m = sparse_matrix.shape\n",
        "  average_rating = { i : sum_of_ratings[i]/no_of_ratings[i] for i in range(u if users else m) if no_of_ratings[i] != 0}\n",
        "  return average_rating"
      ],
      "execution_count": 0,
      "outputs": []
    },
    {
      "cell_type": "markdown",
      "metadata": {
        "id": "BHO3sF5zxrn-",
        "colab_type": "text"
      },
      "source": [
        "<h4> 3.3.7.1 finding global average of all movie ratings </h4>"
      ]
    },
    {
      "cell_type": "code",
      "metadata": {
        "id": "3B-YNgSihQrl",
        "colab_type": "code",
        "outputId": "d0b4551b-1172-4fab-f304-4789c1415615",
        "colab": {
          "base_uri": "https://localhost:8080/",
          "height": 34
        }
      },
      "source": [
        "train_average = dict()\n",
        "train_global_average = train_sparse_matrix.sum()/train_sparse_matrix.count_nonzero()\n",
        "train_average['global'] = train_global_average\n",
        "train_average"
      ],
      "execution_count": 58,
      "outputs": [
        {
          "output_type": "execute_result",
          "data": {
            "text/plain": [
              "{'global': 3.582890686321557}"
            ]
          },
          "metadata": {
            "tags": []
          },
          "execution_count": 58
        }
      ]
    },
    {
      "cell_type": "markdown",
      "metadata": {
        "id": "NZICFv1fxroF",
        "colab_type": "text"
      },
      "source": [
        "<h4> 3.3.7.2 finding average rating per user</h4>"
      ]
    },
    {
      "cell_type": "code",
      "metadata": {
        "id": "kgDr91Peh0dU",
        "colab_type": "code",
        "outputId": "50c2a522-3173-47f5-af76-f2ed7599ac7c",
        "colab": {
          "base_uri": "https://localhost:8080/",
          "height": 34
        }
      },
      "source": [
        "train_average['user'] = get_global_avg_rating(train_sparse_matrix, users=True)\n",
        "print('The average rating of user 10:', train_average['user'][10])"
      ],
      "execution_count": 59,
      "outputs": [
        {
          "output_type": "stream",
          "text": [
            "The average rating of user 10: 3.3781094527363185\n"
          ],
          "name": "stdout"
        }
      ]
    },
    {
      "cell_type": "markdown",
      "metadata": {
        "id": "6CAv2kHHxroJ",
        "colab_type": "text"
      },
      "source": [
        "<h4> 3.3.7.3 finding average rating per movie</h4>"
      ]
    },
    {
      "cell_type": "code",
      "metadata": {
        "id": "tEVUz5rBiMLN",
        "colab_type": "code",
        "outputId": "f629b013-87e8-4c00-8913-2527f2f126b9",
        "colab": {
          "base_uri": "https://localhost:8080/",
          "height": 34
        }
      },
      "source": [
        "train_average['movie'] = get_global_avg_rating(train_sparse_matrix, users=False)\n",
        "print('The average rating of movie 10', train_average['movie'][10])"
      ],
      "execution_count": 42,
      "outputs": [
        {
          "output_type": "stream",
          "text": [
            "The average rating of movie 10 3.1945701357466065\n"
          ],
          "name": "stdout"
        }
      ]
    },
    {
      "cell_type": "markdown",
      "metadata": {
        "id": "FKLbra7FxroQ",
        "colab_type": "text"
      },
      "source": [
        "<h4> 3.3.7.4 PDF's & CDF's of Avg.Ratings of Users & Movies (In Train Data)</h4>"
      ]
    },
    {
      "cell_type": "code",
      "metadata": {
        "id": "YJdrogjhigkk",
        "colab_type": "code",
        "outputId": "1862c14b-f0e2-4b32-9743-9ab6ed6e4061",
        "colab": {
          "base_uri": "https://localhost:8080/",
          "height": 294
        }
      },
      "source": [
        "fig, (ax1, ax2) = plt.subplots(nrows=1, ncols=2, figsize=plt.figaspect(0.5))\n",
        "fig.suptitle('Average ratings per user per movie')\n",
        "\n",
        "ax1.set_title('Users avg ratings')\n",
        "user_avg = [i for i in train_average['user'].values()]\n",
        "sns.distplot(user_avg, ax=ax1, hist=False, kde_kws=dict(cumulative=True), label='cdf')\n",
        "sns.distplot(user_avg, ax=ax1, hist=False, label='pdf')\n",
        "\n",
        "ax2.set_title('Movies avg ratings')\n",
        "user_avg = [i for i in train_average['movie'].values()]\n",
        "sns.distplot(user_avg, ax=ax2, hist=False, kde_kws=dict(cumulative=True), label='cdf')\n",
        "sns.distplot(user_avg, ax=ax2, hist=False, label='pdf')\n",
        "\n",
        "plt.show()"
      ],
      "execution_count": 43,
      "outputs": [
        {
          "output_type": "display_data",
          "data": {
            "image/png": "[encoded data removed]",
            "text/plain": [
              "<Figure size 576x288 with 2 Axes>"
            ]
          },
          "metadata": {
            "tags": []
          }
        }
      ]
    },
    {
      "cell_type": "code",
      "metadata": {
        "id": "Q8nSVfrdm_Mg",
        "colab_type": "code",
        "outputId": "49126584-f7ba-479b-fa96-a05b0a53925d",
        "colab": {
          "base_uri": "https://localhost:8080/",
          "height": 70
        }
      },
      "source": [
        "total_users = len(np.unique(df.user))\n",
        "user_train = len(train_average['user'])\n",
        "new_users = (total_users - user_train)\n",
        "\n",
        "print('Total No of unique users:', total_users)\n",
        "print('Total No of users in training set', user_train)\n",
        "print('New users in the data: {}({}%)'.format(new_users, (np.round((new_users/total_users) * 100, 2))))"
      ],
      "execution_count": 44,
      "outputs": [
        {
          "output_type": "stream",
          "text": [
            "Total No of unique users: 480189\n",
            "Total No of users in training set 405041\n",
            "New users in the data: 75148(15.65%)\n"
          ],
          "name": "stdout"
        }
      ]
    },
    {
      "cell_type": "markdown",
      "metadata": {
        "id": "NcSQjhBhxroc",
        "colab_type": "text"
      },
      "source": [
        "> We might have to handle __new users__ ( ___75148___ ) who didn't appear in train data."
      ]
    },
    {
      "cell_type": "code",
      "metadata": {
        "id": "KWsDtOrVvRnM",
        "colab_type": "code",
        "outputId": "78e02c20-b0b3-4fec-c8e4-967ea4872689",
        "colab": {
          "base_uri": "https://localhost:8080/",
          "height": 70
        }
      },
      "source": [
        "total_movies = len(np.unique(df.movie))\n",
        "movie_train = len(train_average['movie'])\n",
        "new_movies = (total_movies - movie_train)\n",
        "\n",
        "print('Total No of unique movies:', total_movies)\n",
        "print('Total No of users in training set', movie_train)\n",
        "print('New users in the data: {} ({}%)'.format(new_movies, (np.round((new_movies/total_movies) * 100, 2))))"
      ],
      "execution_count": 45,
      "outputs": [
        {
          "output_type": "stream",
          "text": [
            "Total No of unique movies: 17770\n",
            "Total No of users in training set 17424\n",
            "New users in the data: 346 (1.95%)\n"
          ],
          "name": "stdout"
        }
      ]
    },
    {
      "cell_type": "markdown",
      "metadata": {
        "id": "ipdAdhb3xrok",
        "colab_type": "text"
      },
      "source": [
        "<h3> 3.4.1 Computing User-User Similarity matrix </h3>"
      ]
    },
    {
      "cell_type": "markdown",
      "metadata": {
        "collapsed": true,
        "id": "CzaXbFY2xrol",
        "colab_type": "text"
      },
      "source": [
        "1. Calculating User User Similarity_Matrix is __not very easy__(_unless you have huge Computing Power and lots of time_) because of number of. usersbeing lare.\n",
        "\n",
        "    * You can try if you want to. Your system could crash or the program stops with **Memory Error**\n"
      ]
    },
    {
      "cell_type": "markdown",
      "metadata": {
        "id": "o21mlVQ-xrom",
        "colab_type": "text"
      },
      "source": [
        "<h4> 3.4.1.1 Trying with all dimensions (17k dimensions per user) </h4>"
      ]
    },
    {
      "cell_type": "code",
      "metadata": {
        "id": "IqocmrOFu_2C",
        "colab_type": "code",
        "colab": {}
      },
      "source": [
        "from sklearn.metrics.pairwise import cosine_similarity\n",
        "\n",
        "\n",
        "def compute_user_similarity(sparse_matrix, compute_for_few=False, top = 100, verbose=False, verb_for_n_rows = 20,\n",
        "                            draw_time_taken=True):\n",
        "    no_of_users, _ = sparse_matrix.shape\n",
        "    # get the indices of  non zero rows(users) from our sparse matrix\n",
        "    row_ind, col_ind = sparse_matrix.nonzero()\n",
        "    row_ind = sorted(set(row_ind)) # we don't have to\n",
        "    time_taken = list() #  time taken for finding similar users for an user..\n",
        "    \n",
        "    # we create rows, cols, and data lists.., which can be used to create sparse matrices\n",
        "    rows, cols, data = list(), list(), list()\n",
        "    if verbose: print(\"Computing top\",top,\"similarities for each user..\")\n",
        "    \n",
        "    start = datetime.now()\n",
        "    temp = 0\n",
        "    \n",
        "    for row in row_ind[:top] if compute_for_few else row_ind:\n",
        "        temp = temp+1\n",
        "        prev = datetime.now()\n",
        "        \n",
        "        # get the similarity row for this user with all other users\n",
        "        sim = cosine_similarity(sparse_matrix.getrow(row), sparse_matrix).ravel()\n",
        "        # We will get only the top ''top'' most similar users and ignore rest of them..\n",
        "        top_sim_ind = sim.argsort()[-top:]\n",
        "        top_sim_val = sim[top_sim_ind]\n",
        "        \n",
        "        # add them to our rows, cols and data\n",
        "        rows.extend([row]*top)\n",
        "        cols.extend(top_sim_ind)\n",
        "        data.extend(top_sim_val)\n",
        "        time_taken.append(datetime.now().timestamp() - prev.timestamp())\n",
        "        if verbose:\n",
        "            if temp%verb_for_n_rows == 0:\n",
        "                print(\"computing done for {} users [  time elapsed : {}  ]\"\n",
        "                      .format(temp, datetime.now()-start))\n",
        "            \n",
        "        \n",
        "    # lets create sparse matrix out of these and return it\n",
        "    if verbose: print('Creating Sparse matrix from the computed similarities')\n",
        "    #return rows, cols, data\n",
        "    \n",
        "    if draw_time_taken:\n",
        "        plt.plot(time_taken, label = 'time taken for each user') \n",
        "        plt.plot(np.cumsum(time_taken), label='Total time')\n",
        "        plt.legend(loc='best')\n",
        "        plt.xlabel('User')\n",
        "        plt.ylabel('Time (seconds)')\n",
        "        plt.show()\n",
        "        \n",
        "    return sparse.csr_matrix((data, (rows, cols)), shape=(no_of_users, no_of_users)), time_taken      "
      ],
      "execution_count": 0,
      "outputs": []
    },
    {
      "cell_type": "code",
      "metadata": {
        "id": "l453cMXdFich",
        "colab_type": "code",
        "colab": {
          "base_uri": "https://localhost:8080/",
          "height": 437
        },
        "outputId": "a8883f86-4527-4c1f-cf58-ccc348894754"
      },
      "source": [
        "start = datetime.now()\n",
        "u_u_sim_sparse, _ = compute_user_similarity(train_sparse_matrix, compute_for_few=True, top = 100,\n",
        "                                                     verbose=True)\n",
        "print(\"-\"*100)\n",
        "print(\"Time taken :\",datetime.now()-start)"
      ],
      "execution_count": 47,
      "outputs": [
        {
          "output_type": "stream",
          "text": [
            "Computing top 100 similarities for each user..\n",
            "computing done for 20 users [  time elapsed : 0:00:57.916541  ]\n",
            "computing done for 40 users [  time elapsed : 0:01:54.412727  ]\n",
            "computing done for 60 users [  time elapsed : 0:02:49.532131  ]\n",
            "computing done for 80 users [  time elapsed : 0:03:45.110968  ]\n",
            "computing done for 100 users [  time elapsed : 0:04:41.389682  ]\n",
            "Creating Sparse matrix from the computed similarities\n"
          ],
          "name": "stdout"
        },
        {
          "output_type": "display_data",
          "data": {
            "image/png": "[encoded data removed]",
            "text/plain": [
              "<Figure size 432x288 with 1 Axes>"
            ]
          },
          "metadata": {
            "tags": []
          }
        },
        {
          "output_type": "stream",
          "text": [
            "----------------------------------------------------------------------------------------------------\n",
            "Time taken : 0:04:52.079749\n"
          ],
          "name": "stdout"
        }
      ]
    },
    {
      "cell_type": "markdown",
      "metadata": {
        "id": "BqzQHJkqxros",
        "colab_type": "text"
      },
      "source": [
        "<h4> 3.4.1.2 Trying with reduced dimensions (Using TruncatedSVD for dimensionality reduction of user vector)</h4>"
      ]
    },
    {
      "cell_type": "code",
      "metadata": {
        "id": "8nZv5ezLitWS",
        "colab_type": "code",
        "colab": {
          "base_uri": "https://localhost:8080/",
          "height": 87
        },
        "outputId": "df26d37c-febd-4e09-f851-946054a8dfd9"
      },
      "source": [
        "start = datetime.now()\n",
        "if not os.path.isfile('m_m_sim_sparse.npz'):\n",
        "  print('It seems you dont have that file Computing movie_movie similarity...')\n",
        "  start = datetime.now()\n",
        "  m_m_sim_sparse = cosine_similarity(X=train_sparse_matrix.T, dense_output=False)\n",
        "  print('Done..')\n",
        "  # store this sparse matrix in disk before using it. For future purposes.\n",
        "  print('Saving it to disk without the need of re-computing it again.. ')\n",
        "  sparse.save_npz('m_m_sim_sparse.npz', m_m_sim_sparse)\n",
        "  print('Done..')\n",
        "else:\n",
        "  print(\"It is there, We will get it.\")\n",
        "  m_m_sim_sparse = sparse.load_npz(\"m_m_sim_sparse.npz\")\n",
        "  print(\"Done ...\")\n",
        "\n",
        "print(\"It's a \",m_m_sim_sparse.shape,\" dimensional matrix\")\n",
        "\n",
        "print(datetime.now() - start)"
      ],
      "execution_count": 17,
      "outputs": [
        {
          "output_type": "stream",
          "text": [
            "It is there, We will get it.\n",
            "Done ...\n",
            "It's a  (17771, 17771)  dimensional matrix\n",
            "0:00:50.700458\n"
          ],
          "name": "stdout"
        }
      ]
    },
    {
      "cell_type": "code",
      "metadata": {
        "id": "d5vOvuOib1gO",
        "colab_type": "code",
        "colab": {
          "base_uri": "https://localhost:8080/",
          "height": 34
        },
        "outputId": "4dcbe87f-1a16-49c4-e0b8-5c4f9d612343"
      },
      "source": [
        "m_m_sim_sparse.shape"
      ],
      "execution_count": 18,
      "outputs": [
        {
          "output_type": "execute_result",
          "data": {
            "text/plain": [
              "(17771, 17771)"
            ]
          },
          "metadata": {
            "tags": []
          },
          "execution_count": 18
        }
      ]
    },
    {
      "cell_type": "code",
      "metadata": {
        "id": "Jxa76uUReZD0",
        "colab_type": "code",
        "colab": {
          "base_uri": "https://localhost:8080/",
          "height": 105
        },
        "outputId": "1a9ac75f-f673-46bc-e6c5-c62e02697348"
      },
      "source": [
        "pip install scikit-surprise"
      ],
      "execution_count": 50,
      "outputs": [
        {
          "output_type": "stream",
          "text": [
            "Requirement already satisfied: scikit-surprise in /usr/local/lib/python3.6/dist-packages (1.1.0)\n",
            "Requirement already satisfied: joblib>=0.11 in /usr/local/lib/python3.6/dist-packages (from scikit-surprise) (0.14.1)\n",
            "Requirement already satisfied: numpy>=1.11.2 in /usr/local/lib/python3.6/dist-packages (from scikit-surprise) (1.18.3)\n",
            "Requirement already satisfied: six>=1.10.0 in /usr/local/lib/python3.6/dist-packages (from scikit-surprise) (1.12.0)\n",
            "Requirement already satisfied: scipy>=1.0.0 in /usr/local/lib/python3.6/dist-packages (from scikit-surprise) (1.4.1)\n"
          ],
          "name": "stdout"
        }
      ]
    },
    {
      "cell_type": "code",
      "metadata": {
        "id": "l38r-9yCJ52h",
        "colab_type": "code",
        "colab": {}
      },
      "source": [
        "movie_id = np.unique(m_m_sim_sparse.nonzero()[1])"
      ],
      "execution_count": 0,
      "outputs": []
    },
    {
      "cell_type": "code",
      "metadata": {
        "id": "D1a6JiJMKRBD",
        "colab_type": "code",
        "colab": {
          "base_uri": "https://localhost:8080/",
          "height": 34
        },
        "outputId": "82dad3eb-39ab-400e-9f7a-3da589dc7693"
      },
      "source": [
        "movie_id"
      ],
      "execution_count": 21,
      "outputs": [
        {
          "output_type": "execute_result",
          "data": {
            "text/plain": [
              "array([    1,     2,     3, ..., 17768, 17769, 17770], dtype=int32)"
            ]
          },
          "metadata": {
            "tags": []
          },
          "execution_count": 21
        }
      ]
    },
    {
      "cell_type": "markdown",
      "metadata": {
        "collapsed": true,
        "id": "kb9Yk2f5xrpg",
        "colab_type": "text"
      },
      "source": [
        "<h3> 3.4.2 Computing Movie-Movie Similarity matrix </h3>"
      ]
    },
    {
      "cell_type": "code",
      "metadata": {
        "id": "nDKJgIwbKWAY",
        "colab_type": "code",
        "colab": {
          "base_uri": "https://localhost:8080/",
          "height": 228
        },
        "outputId": "84abf42e-c63e-40d1-aa28-298fb29b94b3"
      },
      "source": [
        "similar_movies = dict()\n",
        "for id in movie_id:\n",
        "  sim_movies = m_m_sim_sparse[id].toarray().ravel().argsort()[::-1][1:]\n",
        "  similar_movies[id] = sim_movies[:100]\n",
        "  #similar_movies[id] = similar_movies[id].sort()\n",
        "\n",
        "similar_movies[15]"
      ],
      "execution_count": 28,
      "outputs": [
        {
          "output_type": "execute_result",
          "data": {
            "text/plain": [
              "array([ 8279,  8013, 16528,  5927, 13105, 12049,  4424, 10193, 17590,\n",
              "        4549,  3755,   590, 14059, 15144, 15054,  9584,  9071,  6349,\n",
              "       16402,  3973,  1720,  5370, 16309,  9376,  6116,  4706,  2818,\n",
              "         778, 15331,  1416, 12979, 17139, 17710,  5452,  2534,   164,\n",
              "       15188,  8323,  2450, 16331,  9566, 15301, 13213, 14308, 15984,\n",
              "       10597,  6426,  5500,  7068,  7328,  5720,  9802,   376, 13013,\n",
              "        8003, 10199,  3338, 15390,  9688, 16455, 11730,  4513,   598,\n",
              "       12762,  2187,   509,  5865,  9166, 17115, 16334,  1942,  7282,\n",
              "       17584,  4376,  8988,  8873,  5921,  2716, 14679, 11947, 11981,\n",
              "        4649,   565, 12954, 10788, 10220, 10963,  9427,  1690,  5107,\n",
              "        7859,  5969,  1510,  2429,   847,  7845,  6410, 13931,  9840,\n",
              "        3706])"
            ]
          },
          "metadata": {
            "tags": []
          },
          "execution_count": 28
        }
      ]
    },
    {
      "cell_type": "markdown",
      "metadata": {
        "id": "eJIAvNB9xrpv",
        "colab_type": "text"
      },
      "source": [
        "<h3> 3.4.3 Finding most similar movies using similarity matrix </h3>"
      ]
    },
    {
      "cell_type": "markdown",
      "metadata": {
        "id": "FPlIy7uTxrpw",
        "colab_type": "text"
      },
      "source": [
        "__ Does Similarity really works as the way we expected...? __ <br>\n",
        "_Let's pick some random movie and check for its similar movies...._"
      ]
    },
    {
      "cell_type": "code",
      "metadata": {
        "id": "ptjrhJJNURWy",
        "colab_type": "code",
        "colab": {
          "base_uri": "https://localhost:8080/",
          "height": 282
        },
        "outputId": "69e055dc-ce6f-4520-eced-747e1d06b9f3"
      },
      "source": [
        "movie_titles = pd.read_csv('drive/My Drive/Applied AI/data_folder/movie_titles.csv', sep=',', header = None,\n",
        "                           names=['movie_id', 'year_of_release', 'title'], verbose=True,\n",
        "                      index_col = 'movie_id', encoding = \"ISO-8859-1\")\n",
        "\n",
        "movie_titles.head()"
      ],
      "execution_count": 30,
      "outputs": [
        {
          "output_type": "stream",
          "text": [
            "Tokenization took: 5.71 ms\n",
            "Type conversion took: 18.12 ms\n",
            "Parser memory cleanup took: 0.05 ms\n"
          ],
          "name": "stdout"
        },
        {
          "output_type": "execute_result",
          "data": {
            "text/html": [
              "<div>\n",
              "<style scoped>\n",
              "    .dataframe tbody tr th:only-of-type {\n",
              "        vertical-align: middle;\n",
              "    }\n",
              "\n",
              "    .dataframe tbody tr th {\n",
              "        vertical-align: top;\n",
              "    }\n",
              "\n",
              "    .dataframe thead th {\n",
              "        text-align: right;\n",
              "    }\n",
              "</style>\n",
              "<table border=\"1\" class=\"dataframe\">\n",
              "  <thead>\n",
              "    <tr style=\"text-align: right;\">\n",
              "      <th></th>\n",
              "      <th>year_of_release</th>\n",
              "      <th>title</th>\n",
              "    </tr>\n",
              "    <tr>\n",
              "      <th>movie_id</th>\n",
              "      <th></th>\n",
              "      <th></th>\n",
              "    </tr>\n",
              "  </thead>\n",
              "  <tbody>\n",
              "    <tr>\n",
              "      <th>1</th>\n",
              "      <td>2003.0</td>\n",
              "      <td>Dinosaur Planet</td>\n",
              "    </tr>\n",
              "    <tr>\n",
              "      <th>2</th>\n",
              "      <td>2004.0</td>\n",
              "      <td>Isle of Man TT 2004 Review</td>\n",
              "    </tr>\n",
              "    <tr>\n",
              "      <th>3</th>\n",
              "      <td>1997.0</td>\n",
              "      <td>Character</td>\n",
              "    </tr>\n",
              "    <tr>\n",
              "      <th>4</th>\n",
              "      <td>1994.0</td>\n",
              "      <td>Paula Abdul's Get Up &amp; Dance</td>\n",
              "    </tr>\n",
              "    <tr>\n",
              "      <th>5</th>\n",
              "      <td>2004.0</td>\n",
              "      <td>The Rise and Fall of ECW</td>\n",
              "    </tr>\n",
              "  </tbody>\n",
              "</table>\n",
              "</div>"
            ],
            "text/plain": [
              "          year_of_release                         title\n",
              "movie_id                                               \n",
              "1                  2003.0               Dinosaur Planet\n",
              "2                  2004.0    Isle of Man TT 2004 Review\n",
              "3                  1997.0                     Character\n",
              "4                  1994.0  Paula Abdul's Get Up & Dance\n",
              "5                  2004.0      The Rise and Fall of ECW"
            ]
          },
          "metadata": {
            "tags": []
          },
          "execution_count": 30
        }
      ]
    },
    {
      "cell_type": "code",
      "metadata": {
        "id": "C6sppwtDV2r6",
        "colab_type": "code",
        "colab": {
          "base_uri": "https://localhost:8080/",
          "height": 70
        },
        "outputId": "f6256d8d-169b-45f0-f1aa-93b0070408a6"
      },
      "source": [
        "movie_id = 12\n",
        "\n",
        "print('Movie -->', movie_titles.loc[movie_id].values[1])\n",
        "print('No of ratings:', train_sparse_matrix[:,movie_id].getnnz())\n",
        "print('No of movies similar to this movie', m_m_sim_sparse[:,movie_id].getnnz())"
      ],
      "execution_count": 35,
      "outputs": [
        {
          "output_type": "stream",
          "text": [
            "Movie --> My Favorite Brunette\n",
            "No of ratings: 459\n",
            "No of movies similar to this movie 17298\n"
          ],
          "name": "stdout"
        }
      ]
    },
    {
      "cell_type": "code",
      "metadata": {
        "id": "I9kkxguHYTsa",
        "colab_type": "code",
        "colab": {}
      },
      "source": [
        "similarities = m_m_sim_sparse[movie_id].toarray().ravel()\n",
        "similar_indices = similarities.argsort()[::-1][1:]\n",
        "similarities[similar_indices]\n",
        "sim_indices = similarities.argsort()[::-1][1:] # It will sort and reverse the array and ignore its similarity (ie.,1) and return its indices(movie_ids)"
      ],
      "execution_count": 0,
      "outputs": []
    },
    {
      "cell_type": "code",
      "metadata": {
        "id": "2t0AySVpZSIP",
        "colab_type": "code",
        "colab": {
          "base_uri": "https://localhost:8080/",
          "height": 307
        },
        "outputId": "c16bde94-91e5-48c4-8a8c-d56a2e7ad8ed"
      },
      "source": [
        "plt.plot(similarities[sim_indices], label='All the ratings')\n",
        "plt.plot(similarities[sim_indices[:100]], label='top 100 similar movies')\n",
        "plt.title(\"Similar Movies of {}(movie_id)\".format(movie_id), fontsize=20)\n",
        "plt.xlabel(\"Movies (Not Movie_Ids)\", fontsize=15)\n",
        "plt.ylabel(\"Cosine Similarity\",fontsize=15)\n",
        "plt.legend()\n",
        "plt.show()"
      ],
      "execution_count": 46,
      "outputs": [
        {
          "output_type": "display_data",
          "data": {
            "image/png": "[encoded data removed]",
            "text/plain": [
              "<Figure size 432x288 with 1 Axes>"
            ]
          },
          "metadata": {
            "tags": []
          }
        }
      ]
    },
    {
      "cell_type": "markdown",
      "metadata": {
        "id": "myQr_h7Lxrp8",
        "colab_type": "text"
      },
      "source": [
        "__Top 10 similar movies__"
      ]
    },
    {
      "cell_type": "code",
      "metadata": {
        "id": "rPLJkXIcaIAM",
        "colab_type": "code",
        "colab": {
          "base_uri": "https://localhost:8080/",
          "height": 381
        },
        "outputId": "85b82c0a-128d-47b6-f1e3-4cecb6393d76"
      },
      "source": [
        "movie_titles.loc[sim_indices[:10]]"
      ],
      "execution_count": 47,
      "outputs": [
        {
          "output_type": "execute_result",
          "data": {
            "text/html": [
              "<div>\n",
              "<style scoped>\n",
              "    .dataframe tbody tr th:only-of-type {\n",
              "        vertical-align: middle;\n",
              "    }\n",
              "\n",
              "    .dataframe tbody tr th {\n",
              "        vertical-align: top;\n",
              "    }\n",
              "\n",
              "    .dataframe thead th {\n",
              "        text-align: right;\n",
              "    }\n",
              "</style>\n",
              "<table border=\"1\" class=\"dataframe\">\n",
              "  <thead>\n",
              "    <tr style=\"text-align: right;\">\n",
              "      <th></th>\n",
              "      <th>year_of_release</th>\n",
              "      <th>title</th>\n",
              "    </tr>\n",
              "    <tr>\n",
              "      <th>movie_id</th>\n",
              "      <th></th>\n",
              "      <th></th>\n",
              "    </tr>\n",
              "  </thead>\n",
              "  <tbody>\n",
              "    <tr>\n",
              "      <th>90</th>\n",
              "      <td>1951.0</td>\n",
              "      <td>The Lemon Drop Kid</td>\n",
              "    </tr>\n",
              "    <tr>\n",
              "      <th>17107</th>\n",
              "      <td>1940.0</td>\n",
              "      <td>The Ghost Breakers</td>\n",
              "    </tr>\n",
              "    <tr>\n",
              "      <th>9941</th>\n",
              "      <td>1948.0</td>\n",
              "      <td>Sorrowful Jones / The Paleface: Double Feature</td>\n",
              "    </tr>\n",
              "    <tr>\n",
              "      <th>14689</th>\n",
              "      <td>1952.0</td>\n",
              "      <td>Son of Paleface</td>\n",
              "    </tr>\n",
              "    <tr>\n",
              "      <th>14023</th>\n",
              "      <td>1952.0</td>\n",
              "      <td>The Road to Bali</td>\n",
              "    </tr>\n",
              "    <tr>\n",
              "      <th>10671</th>\n",
              "      <td>1942.0</td>\n",
              "      <td>My Favorite Blonde / Star Spangled Rhythm</td>\n",
              "    </tr>\n",
              "    <tr>\n",
              "      <th>12332</th>\n",
              "      <td>1941.0</td>\n",
              "      <td>Road to Zanzibar</td>\n",
              "    </tr>\n",
              "    <tr>\n",
              "      <th>17290</th>\n",
              "      <td>1948.0</td>\n",
              "      <td>The Paleface</td>\n",
              "    </tr>\n",
              "    <tr>\n",
              "      <th>4536</th>\n",
              "      <td>1947.0</td>\n",
              "      <td>Road to Rio</td>\n",
              "    </tr>\n",
              "    <tr>\n",
              "      <th>1778</th>\n",
              "      <td>1940.0</td>\n",
              "      <td>Road to Singapore</td>\n",
              "    </tr>\n",
              "  </tbody>\n",
              "</table>\n",
              "</div>"
            ],
            "text/plain": [
              "          year_of_release                                           title\n",
              "movie_id                                                                 \n",
              "90                 1951.0                              The Lemon Drop Kid\n",
              "17107              1940.0                              The Ghost Breakers\n",
              "9941               1948.0  Sorrowful Jones / The Paleface: Double Feature\n",
              "14689              1952.0                                 Son of Paleface\n",
              "14023              1952.0                                The Road to Bali\n",
              "10671              1942.0       My Favorite Blonde / Star Spangled Rhythm\n",
              "12332              1941.0                                Road to Zanzibar\n",
              "17290              1948.0                                    The Paleface\n",
              "4536               1947.0                                     Road to Rio\n",
              "1778               1940.0                               Road to Singapore"
            ]
          },
          "metadata": {
            "tags": []
          },
          "execution_count": 47
        }
      ]
    },
    {
      "cell_type": "markdown",
      "metadata": {
        "id": "4Tro44QZxrqB",
        "colab_type": "text"
      },
      "source": [
        " <h1> 4.  Machine Learning Models </h1>"
      ]
    },
    {
      "cell_type": "code",
      "metadata": {
        "id": "ys7qPIAtceYc",
        "colab_type": "code",
        "colab": {}
      },
      "source": [
        "def get_sample_sparse_matrix(sparse_matrix, no_users, no_movies, path, verbose = True):\n",
        "    \"\"\"\n",
        "        It will get it from the ''path'' if it is present  or It will create \n",
        "        and store the sampled sparse matrix in the path specified.\n",
        "    \"\"\"\n",
        "\n",
        "    # get (row, col) and (rating) tuple from sparse_matrix...\n",
        "    row_ind, col_ind, ratings = sparse.find(sparse_matrix)\n",
        "    users = np.unique(row_ind)\n",
        "    movies = np.unique(col_ind)\n",
        "\n",
        "    print(\"Original Matrix : (users, movies) -- ({} {})\".format(len(users), len(movies)))\n",
        "    print(\"Original Matrix : Ratings -- {}\\n\".format(len(ratings)))\n",
        "\n",
        "    # It just to make sure to get same sample everytime we run this program..\n",
        "    # and pick without replacement....\n",
        "    np.random.seed(15)\n",
        "    sample_users = np.random.choice(users, no_users, replace=False)\n",
        "    sample_movies = np.random.choice(movies, no_movies, replace=False)\n",
        "    # get the boolean mask or these sampled_items in originl row/col_inds..\n",
        "    mask = np.logical_and( np.isin(row_ind, sample_users),\n",
        "                      np.isin(col_ind, sample_movies) )\n",
        "    \n",
        "    sample_sparse_matrix = sparse.csr_matrix((ratings[mask], (row_ind[mask], col_ind[mask])),\n",
        "                                             shape=(max(sample_users)+1, max(sample_movies)+1))\n",
        "\n",
        "    if verbose:\n",
        "        print(\"Sampled Matrix : (users, movies) -- ({} {})\".format(len(sample_users), len(sample_movies)))\n",
        "        print(\"Sampled Matrix : Ratings --\", format(ratings[mask].shape[0]))\n",
        "\n",
        "    print('Saving it into disk for furthur usage..')\n",
        "    # save it into disk\n",
        "    sparse.save_npz(path, sample_sparse_matrix)\n",
        "    if verbose:\n",
        "            print('Done..\\n')\n",
        "    \n",
        "    return sample_sparse_matrix"
      ],
      "execution_count": 0,
      "outputs": []
    },
    {
      "cell_type": "markdown",
      "metadata": {
        "id": "qKFfQ0bgxrqF",
        "colab_type": "text"
      },
      "source": [
        "<h2> 4.1 Sampling Data </h2>"
      ]
    },
    {
      "cell_type": "markdown",
      "metadata": {
        "id": "0jLFR-p1xrqG",
        "colab_type": "text"
      },
      "source": [
        "<h3>4.1.1 Build sample train data from the train data</h3>"
      ]
    },
    {
      "cell_type": "code",
      "metadata": {
        "id": "7V9XqcYWfVOu",
        "colab_type": "code",
        "colab": {
          "base_uri": "https://localhost:8080/",
          "height": 70
        },
        "outputId": "b6e44a0e-99c3-4707-a129-bb91d7d95eb2"
      },
      "source": [
        "start = datetime.now()\n",
        "path = \"drive/My Drive/Applied AI/data_folder/sample_train_sparse_matrix.npz\"\n",
        "if os.path.isfile(path):\n",
        "    print(\"It is present in your pwd, getting it from disk....\")\n",
        "    # just get it from the disk instead of computing it\n",
        "    sample_train_sparse_matrix = sparse.load_npz(path)\n",
        "    print(\"DONE..\")\n",
        "else: \n",
        "    # get 10k users and 1k movies from available data \n",
        "    sample_train_sparse_matrix = get_sample_sparse_matrix(train_sparse_matrix, no_users=10000, no_movies=1000,\n",
        "                                             path = path)\n",
        "\n",
        "print(datetime.now() - start)"
      ],
      "execution_count": 50,
      "outputs": [
        {
          "output_type": "stream",
          "text": [
            "It is present in your pwd, getting it from disk....\n",
            "DONE..\n",
            "0:00:00.698766\n"
          ],
          "name": "stdout"
        }
      ]
    },
    {
      "cell_type": "markdown",
      "metadata": {
        "id": "fQJ8BE0IxrqJ",
        "colab_type": "text"
      },
      "source": [
        "<h3>4.1.2 Build sample test data from the test data</h3>"
      ]
    },
    {
      "cell_type": "code",
      "metadata": {
        "id": "RmTtkBblfXxo",
        "colab_type": "code",
        "colab": {
          "base_uri": "https://localhost:8080/",
          "height": 70
        },
        "outputId": "ffd9cc55-cc52-4263-b06c-3555690ea4f7"
      },
      "source": [
        "start = datetime.now()\n",
        "\n",
        "path = \"drive/My Drive/Applied AI/data_folder/sample_test_sparse_matrix.npz\"\n",
        "if os.path.isfile(path):\n",
        "    print(\"It is present in your pwd, getting it from disk....\")\n",
        "    # just get it from the disk instead of computing it\n",
        "    sample_test_sparse_matrix = sparse.load_npz(path)\n",
        "    print(\"DONE..\")\n",
        "else:\n",
        "    # get 5k users and 500 movies from available data \n",
        "    sample_test_sparse_matrix = get_sample_sparse_matrix(test_sparse_matrix, no_users=5000, no_movies=500,\n",
        "                                                 path = \"sample/small/sample_test_sparse_matrix.npz\")\n",
        "print(datetime.now() - start)"
      ],
      "execution_count": 51,
      "outputs": [
        {
          "output_type": "stream",
          "text": [
            "It is present in your pwd, getting it from disk....\n",
            "DONE..\n",
            "0:00:00.275863\n"
          ],
          "name": "stdout"
        }
      ]
    },
    {
      "cell_type": "markdown",
      "metadata": {
        "id": "BgTx-m-cxrqM",
        "colab_type": "text"
      },
      "source": [
        "<h2>4.2 Finding Global Average of all movie ratings, Average rating per User, and Average rating per Movie (from sampled train)</h2>"
      ]
    },
    {
      "cell_type": "code",
      "metadata": {
        "id": "_oAYuU_Rf7u6",
        "colab_type": "code",
        "colab": {}
      },
      "source": [
        "sample_train_averages = dict()"
      ],
      "execution_count": 0,
      "outputs": []
    },
    {
      "cell_type": "markdown",
      "metadata": {
        "id": "ZNMVuqWHxrqP",
        "colab_type": "text"
      },
      "source": [
        "<h3>4.2.1 Finding Global Average of all movie ratings</h3>"
      ]
    },
    {
      "cell_type": "code",
      "metadata": {
        "id": "aWeckeuyf-B4",
        "colab_type": "code",
        "colab": {
          "base_uri": "https://localhost:8080/",
          "height": 34
        },
        "outputId": "8815342c-c633-4527-a743-f471143f8c9e"
      },
      "source": [
        "# get the global average of ratings in our train set.\n",
        "global_average = sample_train_sparse_matrix.sum()/sample_train_sparse_matrix.count_nonzero()\n",
        "sample_train_averages['global'] = global_average\n",
        "sample_train_averages"
      ],
      "execution_count": 53,
      "outputs": [
        {
          "output_type": "execute_result",
          "data": {
            "text/plain": [
              "{'global': 3.581679377504138}"
            ]
          },
          "metadata": {
            "tags": []
          },
          "execution_count": 53
        }
      ]
    },
    {
      "cell_type": "markdown",
      "metadata": {
        "id": "A3ldVasnxrqS",
        "colab_type": "text"
      },
      "source": [
        "<h3>4.2.2 Finding Average rating per User</h3>"
      ]
    },
    {
      "cell_type": "code",
      "metadata": {
        "id": "Fak_xGrrgBct",
        "colab_type": "code",
        "colab": {
          "base_uri": "https://localhost:8080/",
          "height": 52
        },
        "outputId": "398761a5-ed1e-4a97-ac2a-33d735a20514"
      },
      "source": [
        "sample_train_averages['user'] = get_global_avg_rating(sample_train_sparse_matrix, users=True)\n",
        "print('\\nAverage rating of user 1515220 :',sample_train_averages['user'][1515220])"
      ],
      "execution_count": 60,
      "outputs": [
        {
          "output_type": "stream",
          "text": [
            "\n",
            "Average rating of user 1515220 : 3.9655172413793105\n"
          ],
          "name": "stdout"
        }
      ]
    },
    {
      "cell_type": "markdown",
      "metadata": {
        "id": "qiVaPz6AxrqV",
        "colab_type": "text"
      },
      "source": [
        "<h3>4.2.3 Finding Average rating per Movie</h3>"
      ]
    },
    {
      "cell_type": "code",
      "metadata": {
        "id": "ZLUZT_efglEq",
        "colab_type": "code",
        "colab": {
          "base_uri": "https://localhost:8080/",
          "height": 52
        },
        "outputId": "870b50fb-b5c2-415c-9d9b-5030883e08bd"
      },
      "source": [
        "sample_train_averages['movie'] =  get_global_avg_rating(sample_train_sparse_matrix, users=False)\n",
        "print('\\n AVerage rating of movie 15153 :',sample_train_averages['movie'][15153])"
      ],
      "execution_count": 62,
      "outputs": [
        {
          "output_type": "stream",
          "text": [
            "\n",
            " AVerage rating of movie 15153 : 2.6458333333333335\n"
          ],
          "name": "stdout"
        }
      ]
    },
    {
      "cell_type": "markdown",
      "metadata": {
        "id": "xVwLprg-xrqZ",
        "colab_type": "text"
      },
      "source": [
        "<h2> 4.3 Featurizing data </h2>"
      ]
    },
    {
      "cell_type": "code",
      "metadata": {
        "id": "TZBQvCapgzvX",
        "colab_type": "code",
        "colab": {
          "base_uri": "https://localhost:8080/",
          "height": 122
        },
        "outputId": "78915464-bfa2-4076-f246-aeec2a3a9b9d"
      },
      "source": [
        "print('\\n No of ratings in Our Sampled train matrix is : {}\\n'.format(sample_train_sparse_matrix.count_nonzero()))\n",
        "print('\\n No of ratings in Our Sampled test  matrix is : {}\\n'.format(sample_test_sparse_matrix.count_nonzero()))"
      ],
      "execution_count": 63,
      "outputs": [
        {
          "output_type": "stream",
          "text": [
            "\n",
            " No of ratings in Our Sampled train matrix is : 129286\n",
            "\n",
            "\n",
            " No of ratings in Our Sampled test  matrix is : 7333\n",
            "\n"
          ],
          "name": "stdout"
        }
      ]
    },
    {
      "cell_type": "markdown",
      "metadata": {
        "id": "GZ7FYSibxrqc",
        "colab_type": "text"
      },
      "source": [
        "<h3> 4.3.1 Featurizing data for regression problem </h3>"
      ]
    },
    {
      "cell_type": "markdown",
      "metadata": {
        "id": "7ZMRQApaxrqc",
        "colab_type": "text"
      },
      "source": [
        "<h4> 4.3.1.1 Featurizing train data </h4>"
      ]
    },
    {
      "cell_type": "code",
      "metadata": {
        "id": "2bGoo3YRg1ho",
        "colab_type": "code",
        "colab": {}
      },
      "source": [
        "# get users, movies and ratings from our samples train sparse matrix\n",
        "sample_train_users, sample_train_movies, sample_train_ratings = sparse.find(sample_train_sparse_matrix)"
      ],
      "execution_count": 0,
      "outputs": []
    },
    {
      "cell_type": "code",
      "metadata": {
        "id": "G-HS1ofPuOov",
        "colab_type": "code",
        "colab": {
          "base_uri": "https://localhost:8080/",
          "height": 52
        },
        "outputId": "435e3c93-dfc8-43b8-dd1c-678f9f7d1ace"
      },
      "source": [
        "############################################################\n",
        "# It took me almost 10 hours to prepare this train dataset.#\n",
        "############################################################\n",
        "start = datetime.now()\n",
        "if os.path.isfile('drive/My Drive/Applied AI/data_folder/reg_train.csv'):\n",
        "    print(\"File already exists you don't have to prepare again...\" )\n",
        "else:\n",
        "    print('preparing {} tuples for the dataset..\\n'.format(len(sample_train_ratings)))\n",
        "    with open('drive/My Drive/Applied AI/data_folder/reg_train.csv', mode='w') as reg_data_file:\n",
        "        count = 0\n",
        "        for (user, movie, rating)  in zip(sample_train_users, sample_train_movies, sample_train_ratings):\n",
        "            st = datetime.now()\n",
        "        #     print(user, movie)    \n",
        "            #--------------------- Ratings of \"movie\" by similar users of \"user\" ---------------------\n",
        "            # compute the similar Users of the \"user\"        \n",
        "            user_sim = cosine_similarity(sample_train_sparse_matrix[user], sample_train_sparse_matrix).ravel()\n",
        "            top_sim_users = user_sim.argsort()[::-1][1:] # we are ignoring 'The User' from its similar users.\n",
        "            # get the ratings of most similar users for this movie\n",
        "            top_ratings = sample_train_sparse_matrix[top_sim_users, movie].toarray().ravel()\n",
        "            # we will make it's length \"5\" by adding movie averages to .\n",
        "            top_sim_users_ratings = list(top_ratings[top_ratings != 0][:5])\n",
        "            top_sim_users_ratings.extend([sample_train_averages['movie'][movie]]*(5 - len(top_sim_users_ratings)))\n",
        "        #     print(top_sim_users_ratings, end=\" \")    \n",
        "\n",
        "\n",
        "            #--------------------- Ratings by \"user\"  to similar movies of \"movie\" ---------------------\n",
        "            # compute the similar movies of the \"movie\"        \n",
        "            movie_sim = cosine_similarity(sample_train_sparse_matrix[:,movie].T, sample_train_sparse_matrix.T).ravel()\n",
        "            top_sim_movies = movie_sim.argsort()[::-1][1:] # we are ignoring 'The User' from its similar users.\n",
        "            # get the ratings of most similar movie rated by this user..\n",
        "            top_ratings = sample_train_sparse_matrix[user, top_sim_movies].toarray().ravel()\n",
        "            # we will make it's length \"5\" by adding user averages to.\n",
        "            top_sim_movies_ratings = list(top_ratings[top_ratings != 0][:5])\n",
        "            top_sim_movies_ratings.extend([sample_train_averages['user'][user]]*(5-len(top_sim_movies_ratings))) \n",
        "        #     print(top_sim_movies_ratings, end=\" : -- \")\n",
        "\n",
        "            #-----------------prepare the row to be stores in a file-----------------#\n",
        "            row = list()\n",
        "            row.append(user)\n",
        "            row.append(movie)\n",
        "            # Now add the other features to this data...\n",
        "            row.append(sample_train_averages['global']) # first feature\n",
        "            # next 5 features are similar_users \"movie\" ratings\n",
        "            row.extend(top_sim_users_ratings)\n",
        "            # next 5 features are \"user\" ratings for similar_movies\n",
        "            row.extend(top_sim_movies_ratings)\n",
        "            # Avg_user rating\n",
        "            row.append(sample_train_averages['user'][user])\n",
        "            # Avg_movie rating\n",
        "            row.append(sample_train_averages['movie'][movie])\n",
        "\n",
        "            # finalley, The actual Rating of this user-movie pair...\n",
        "            row.append(rating)\n",
        "            count = count + 1\n",
        "\n",
        "            # add rows to the file opened..\n",
        "            reg_data_file.write(','.join(map(str, row)))\n",
        "            reg_data_file.write('\\n')        \n",
        "            if (count)%10000 == 0:\n",
        "                # print(','.join(map(str, row)))\n",
        "                print(\"Done for {} rows----- {}\".format(count, datetime.now() - start))\n",
        "\n",
        "\n",
        "print(datetime.now() - start)"
      ],
      "execution_count": 67,
      "outputs": [
        {
          "output_type": "stream",
          "text": [
            "File already exists you don't have to prepare again...\n",
            "0:00:00.001245\n"
          ],
          "name": "stdout"
        }
      ]
    },
    {
      "cell_type": "markdown",
      "metadata": {
        "id": "k3xJ8aWyxrqj",
        "colab_type": "text"
      },
      "source": [
        "__Reading from the file to make a Train_dataframe__"
      ]
    },
    {
      "cell_type": "code",
      "metadata": {
        "id": "1bHdQpI0uQAO",
        "colab_type": "code",
        "colab": {
          "base_uri": "https://localhost:8080/",
          "height": 199
        },
        "outputId": "15637a47-2200-4c8e-fc05-30c796d317b8"
      },
      "source": [
        "reg_train = pd.read_csv('drive/My Drive/Applied AI/data_folder/reg_train.csv', names = ['user', 'movie', 'GAvg', 'sur1', 'sur2', 'sur3', 'sur4', 'sur5','smr1', 'smr2', 'smr3', 'smr4', 'smr5', 'UAvg', 'MAvg', 'rating'], header=None)\n",
        "reg_train.head()"
      ],
      "execution_count": 68,
      "outputs": [
        {
          "output_type": "execute_result",
          "data": {
            "text/html": [
              "<div>\n",
              "<style scoped>\n",
              "    .dataframe tbody tr th:only-of-type {\n",
              "        vertical-align: middle;\n",
              "    }\n",
              "\n",
              "    .dataframe tbody tr th {\n",
              "        vertical-align: top;\n",
              "    }\n",
              "\n",
              "    .dataframe thead th {\n",
              "        text-align: right;\n",
              "    }\n",
              "</style>\n",
              "<table border=\"1\" class=\"dataframe\">\n",
              "  <thead>\n",
              "    <tr style=\"text-align: right;\">\n",
              "      <th></th>\n",
              "      <th>user</th>\n",
              "      <th>movie</th>\n",
              "      <th>GAvg</th>\n",
              "      <th>sur1</th>\n",
              "      <th>sur2</th>\n",
              "      <th>sur3</th>\n",
              "      <th>sur4</th>\n",
              "      <th>sur5</th>\n",
              "      <th>smr1</th>\n",
              "      <th>smr2</th>\n",
              "      <th>smr3</th>\n",
              "      <th>smr4</th>\n",
              "      <th>smr5</th>\n",
              "      <th>UAvg</th>\n",
              "      <th>MAvg</th>\n",
              "      <th>rating</th>\n",
              "    </tr>\n",
              "  </thead>\n",
              "  <tbody>\n",
              "    <tr>\n",
              "      <th>0</th>\n",
              "      <td>53406</td>\n",
              "      <td>33</td>\n",
              "      <td>3.581679</td>\n",
              "      <td>4.0</td>\n",
              "      <td>5.0</td>\n",
              "      <td>5.0</td>\n",
              "      <td>4.0</td>\n",
              "      <td>1.0</td>\n",
              "      <td>5.0</td>\n",
              "      <td>2.0</td>\n",
              "      <td>5.0</td>\n",
              "      <td>3.0</td>\n",
              "      <td>1.0</td>\n",
              "      <td>3.370370</td>\n",
              "      <td>4.092437</td>\n",
              "      <td>4</td>\n",
              "    </tr>\n",
              "    <tr>\n",
              "      <th>1</th>\n",
              "      <td>99540</td>\n",
              "      <td>33</td>\n",
              "      <td>3.581679</td>\n",
              "      <td>5.0</td>\n",
              "      <td>5.0</td>\n",
              "      <td>5.0</td>\n",
              "      <td>4.0</td>\n",
              "      <td>5.0</td>\n",
              "      <td>3.0</td>\n",
              "      <td>4.0</td>\n",
              "      <td>4.0</td>\n",
              "      <td>3.0</td>\n",
              "      <td>5.0</td>\n",
              "      <td>3.555556</td>\n",
              "      <td>4.092437</td>\n",
              "      <td>3</td>\n",
              "    </tr>\n",
              "    <tr>\n",
              "      <th>2</th>\n",
              "      <td>99865</td>\n",
              "      <td>33</td>\n",
              "      <td>3.581679</td>\n",
              "      <td>5.0</td>\n",
              "      <td>5.0</td>\n",
              "      <td>4.0</td>\n",
              "      <td>5.0</td>\n",
              "      <td>3.0</td>\n",
              "      <td>5.0</td>\n",
              "      <td>4.0</td>\n",
              "      <td>4.0</td>\n",
              "      <td>5.0</td>\n",
              "      <td>4.0</td>\n",
              "      <td>3.714286</td>\n",
              "      <td>4.092437</td>\n",
              "      <td>5</td>\n",
              "    </tr>\n",
              "    <tr>\n",
              "      <th>3</th>\n",
              "      <td>101620</td>\n",
              "      <td>33</td>\n",
              "      <td>3.581679</td>\n",
              "      <td>2.0</td>\n",
              "      <td>3.0</td>\n",
              "      <td>5.0</td>\n",
              "      <td>5.0</td>\n",
              "      <td>4.0</td>\n",
              "      <td>4.0</td>\n",
              "      <td>3.0</td>\n",
              "      <td>3.0</td>\n",
              "      <td>4.0</td>\n",
              "      <td>5.0</td>\n",
              "      <td>3.584416</td>\n",
              "      <td>4.092437</td>\n",
              "      <td>5</td>\n",
              "    </tr>\n",
              "    <tr>\n",
              "      <th>4</th>\n",
              "      <td>112974</td>\n",
              "      <td>33</td>\n",
              "      <td>3.581679</td>\n",
              "      <td>5.0</td>\n",
              "      <td>5.0</td>\n",
              "      <td>5.0</td>\n",
              "      <td>5.0</td>\n",
              "      <td>5.0</td>\n",
              "      <td>3.0</td>\n",
              "      <td>5.0</td>\n",
              "      <td>5.0</td>\n",
              "      <td>5.0</td>\n",
              "      <td>3.0</td>\n",
              "      <td>3.750000</td>\n",
              "      <td>4.092437</td>\n",
              "      <td>5</td>\n",
              "    </tr>\n",
              "  </tbody>\n",
              "</table>\n",
              "</div>"
            ],
            "text/plain": [
              "     user  movie      GAvg  sur1  sur2  ...  smr4  smr5      UAvg      MAvg  rating\n",
              "0   53406     33  3.581679   4.0   5.0  ...   3.0   1.0  3.370370  4.092437       4\n",
              "1   99540     33  3.581679   5.0   5.0  ...   3.0   5.0  3.555556  4.092437       3\n",
              "2   99865     33  3.581679   5.0   5.0  ...   5.0   4.0  3.714286  4.092437       5\n",
              "3  101620     33  3.581679   2.0   3.0  ...   4.0   5.0  3.584416  4.092437       5\n",
              "4  112974     33  3.581679   5.0   5.0  ...   5.0   3.0  3.750000  4.092437       5\n",
              "\n",
              "[5 rows x 16 columns]"
            ]
          },
          "metadata": {
            "tags": []
          },
          "execution_count": 68
        }
      ]
    },
    {
      "cell_type": "markdown",
      "metadata": {
        "id": "e90d1zMCxrql",
        "colab_type": "text"
      },
      "source": [
        "-----------------------\n",
        "\n",
        "- __GAvg__ : Average rating of all the ratings \n",
        "\n",
        "\n",
        "- __Similar users rating of this movie__:\n",
        "    - sur1, sur2, sur3, sur4, sur5 ( top 5 similar users who rated that movie.. )\n",
        "    \n",
        "\n",
        "\n",
        "- __Similar movies rated by this user__:\n",
        "    - smr1, smr2, smr3, smr4, smr5 ( top 5 similar movies rated by this movie.. )\n",
        "\n",
        "\n",
        "- __UAvg__ : User's Average rating\n",
        "\n",
        "\n",
        "- __MAvg__ : Average rating of this movie\n",
        "\n",
        "\n",
        "- __rating__ : Rating of this movie by this user.\n",
        "\n",
        "-----------------------"
      ]
    },
    {
      "cell_type": "code",
      "metadata": {
        "id": "0LxExymsucIS",
        "colab_type": "code",
        "colab": {}
      },
      "source": [
        "# get users, movies and ratings from the Sampled Test \n",
        "sample_test_users, sample_test_movies, sample_test_ratings = sparse.find(sample_test_sparse_matrix)"
      ],
      "execution_count": 0,
      "outputs": []
    },
    {
      "cell_type": "code",
      "metadata": {
        "id": "2_o6zgcXul91",
        "colab_type": "code",
        "colab": {
          "base_uri": "https://localhost:8080/",
          "height": 34
        },
        "outputId": "2dda6272-3420-412c-cd99-c78afe60f434"
      },
      "source": [
        "start = datetime.now()\n",
        "\n",
        "if os.path.isfile('drive/My Drive/Applied AI/data_folder/reg_test.csv'):\n",
        "    print(\"It is already created...\")\n",
        "else:\n",
        "\n",
        "    print('preparing {} tuples for the dataset..\\n'.format(len(sample_test_ratings)))\n",
        "    with open('drive/My Drive/Applied AI/data_folder/reg_test.csv', mode='w') as reg_data_file:\n",
        "        count = 0 \n",
        "        for (user, movie, rating)  in zip(sample_test_users, sample_test_movies, sample_test_ratings):\n",
        "            st = datetime.now()\n",
        "\n",
        "        #--------------------- Ratings of \"movie\" by similar users of \"user\" ---------------------\n",
        "            #print(user, movie)\n",
        "            try:\n",
        "                # compute the similar Users of the \"user\"        \n",
        "                user_sim = cosine_similarity(sample_train_sparse_matrix[user], sample_train_sparse_matrix).ravel()\n",
        "                top_sim_users = user_sim.argsort()[::-1][1:] # we are ignoring 'The User' from its similar users.\n",
        "                # get the ratings of most similar users for this movie\n",
        "                top_ratings = sample_train_sparse_matrix[top_sim_users, movie].toarray().ravel()\n",
        "                # we will make it's length \"5\" by adding movie averages to .\n",
        "                top_sim_users_ratings = list(top_ratings[top_ratings != 0][:5])\n",
        "                top_sim_users_ratings.extend([sample_train_averages['movie'][movie]]*(5 - len(top_sim_users_ratings)))\n",
        "                # print(top_sim_users_ratings, end=\"--\")\n",
        "\n",
        "            except (IndexError, KeyError):\n",
        "                # It is a new User or new Movie or there are no ratings for given user for top similar movies...\n",
        "                ########## Cold STart Problem ##########\n",
        "                top_sim_users_ratings.extend([sample_train_averages['global']]*(5 - len(top_sim_users_ratings)))\n",
        "                #print(top_sim_users_ratings)\n",
        "            except:\n",
        "                print(user, movie)\n",
        "                # we just want KeyErrors to be resolved. Not every Exception...\n",
        "                raise\n",
        "\n",
        "\n",
        "\n",
        "            #--------------------- Ratings by \"user\"  to similar movies of \"movie\" ---------------------\n",
        "            try:\n",
        "                # compute the similar movies of the \"movie\"        \n",
        "                movie_sim = cosine_similarity(sample_train_sparse_matrix[:,movie].T, sample_train_sparse_matrix.T).ravel()\n",
        "                top_sim_movies = movie_sim.argsort()[::-1][1:] # we are ignoring 'The User' from its similar users.\n",
        "                # get the ratings of most similar movie rated by this user..\n",
        "                top_ratings = sample_train_sparse_matrix[user, top_sim_movies].toarray().ravel()\n",
        "                # we will make it's length \"5\" by adding user averages to.\n",
        "                top_sim_movies_ratings = list(top_ratings[top_ratings != 0][:5])\n",
        "                top_sim_movies_ratings.extend([sample_train_averages['user'][user]]*(5-len(top_sim_movies_ratings))) \n",
        "                #print(top_sim_movies_ratings)\n",
        "            except (IndexError, KeyError):\n",
        "                #print(top_sim_movies_ratings, end=\" : -- \")\n",
        "                top_sim_movies_ratings.extend([sample_train_averages['global']]*(5-len(top_sim_movies_ratings)))\n",
        "                #print(top_sim_movies_ratings)\n",
        "            except :\n",
        "                raise\n",
        "\n",
        "            #-----------------prepare the row to be stores in a file-----------------#\n",
        "            row = list()\n",
        "            # add usser and movie name first\n",
        "            row.append(user)\n",
        "            row.append(movie)\n",
        "            row.append(sample_train_averages['global']) # first feature\n",
        "            #print(row)\n",
        "            # next 5 features are similar_users \"movie\" ratings\n",
        "            row.extend(top_sim_users_ratings)\n",
        "            #print(row)\n",
        "            # next 5 features are \"user\" ratings for similar_movies\n",
        "            row.extend(top_sim_movies_ratings)\n",
        "            #print(row)\n",
        "            # Avg_user rating\n",
        "            try:\n",
        "                row.append(sample_train_averages['user'][user])\n",
        "            except KeyError:\n",
        "                row.append(sample_train_averages['global'])\n",
        "            except:\n",
        "                raise\n",
        "            #print(row)\n",
        "            # Avg_movie rating\n",
        "            try:\n",
        "                row.append(sample_train_averages['movie'][movie])\n",
        "            except KeyError:\n",
        "                row.append(sample_train_averages['global'])\n",
        "            except:\n",
        "                raise\n",
        "            #print(row)\n",
        "            # finalley, The actual Rating of this user-movie pair...\n",
        "            row.append(rating)\n",
        "            #print(row)\n",
        "            count = count + 1\n",
        "\n",
        "            # add rows to the file opened..\n",
        "            reg_data_file.write(','.join(map(str, row)))\n",
        "            #print(','.join(map(str, row)))\n",
        "            reg_data_file.write('\\n')        \n",
        "            if (count)%1000 == 0:\n",
        "                #print(','.join(map(str, row)))\n",
        "                print(\"Done for {} rows----- {}\".format(count, datetime.now() - start))\n",
        "    print(\"\",datetime.now() - start)  "
      ],
      "execution_count": 70,
      "outputs": [
        {
          "output_type": "stream",
          "text": [
            "It is already created...\n"
          ],
          "name": "stdout"
        }
      ]
    },
    {
      "cell_type": "code",
      "metadata": {
        "id": "ksuPpwl9used",
        "colab_type": "code",
        "colab": {
          "base_uri": "https://localhost:8080/",
          "height": 189
        },
        "outputId": "996b019b-9fe0-48c0-df88-9766e4663feb"
      },
      "source": [
        "reg_test_df = pd.read_csv('drive/My Drive/Applied AI/data_folder/reg_test.csv', names = ['user', 'movie', 'GAvg', 'sur1', 'sur2', 'sur3', 'sur4', 'sur5',\n",
        "                                                          'smr1', 'smr2', 'smr3', 'smr4', 'smr5',\n",
        "                                                          'UAvg', 'MAvg', 'rating'], header=None)\n",
        "reg_test_df.head(4)"
      ],
      "execution_count": 71,
      "outputs": [
        {
          "output_type": "execute_result",
          "data": {
            "text/html": [
              "<div>\n",
              "<style scoped>\n",
              "    .dataframe tbody tr th:only-of-type {\n",
              "        vertical-align: middle;\n",
              "    }\n",
              "\n",
              "    .dataframe tbody tr th {\n",
              "        vertical-align: top;\n",
              "    }\n",
              "\n",
              "    .dataframe thead th {\n",
              "        text-align: right;\n",
              "    }\n",
              "</style>\n",
              "<table border=\"1\" class=\"dataframe\">\n",
              "  <thead>\n",
              "    <tr style=\"text-align: right;\">\n",
              "      <th></th>\n",
              "      <th>user</th>\n",
              "      <th>movie</th>\n",
              "      <th>GAvg</th>\n",
              "      <th>sur1</th>\n",
              "      <th>sur2</th>\n",
              "      <th>sur3</th>\n",
              "      <th>sur4</th>\n",
              "      <th>sur5</th>\n",
              "      <th>smr1</th>\n",
              "      <th>smr2</th>\n",
              "      <th>smr3</th>\n",
              "      <th>smr4</th>\n",
              "      <th>smr5</th>\n",
              "      <th>UAvg</th>\n",
              "      <th>MAvg</th>\n",
              "      <th>rating</th>\n",
              "    </tr>\n",
              "  </thead>\n",
              "  <tbody>\n",
              "    <tr>\n",
              "      <th>0</th>\n",
              "      <td>808635</td>\n",
              "      <td>71</td>\n",
              "      <td>3.581679</td>\n",
              "      <td>3.581679</td>\n",
              "      <td>3.581679</td>\n",
              "      <td>3.581679</td>\n",
              "      <td>3.581679</td>\n",
              "      <td>3.581679</td>\n",
              "      <td>3.581679</td>\n",
              "      <td>3.581679</td>\n",
              "      <td>3.581679</td>\n",
              "      <td>3.581679</td>\n",
              "      <td>3.581679</td>\n",
              "      <td>3.581679</td>\n",
              "      <td>3.581679</td>\n",
              "      <td>5</td>\n",
              "    </tr>\n",
              "    <tr>\n",
              "      <th>1</th>\n",
              "      <td>941866</td>\n",
              "      <td>71</td>\n",
              "      <td>3.581679</td>\n",
              "      <td>3.581679</td>\n",
              "      <td>3.581679</td>\n",
              "      <td>3.581679</td>\n",
              "      <td>3.581679</td>\n",
              "      <td>3.581679</td>\n",
              "      <td>3.581679</td>\n",
              "      <td>3.581679</td>\n",
              "      <td>3.581679</td>\n",
              "      <td>3.581679</td>\n",
              "      <td>3.581679</td>\n",
              "      <td>3.581679</td>\n",
              "      <td>3.581679</td>\n",
              "      <td>4</td>\n",
              "    </tr>\n",
              "    <tr>\n",
              "      <th>2</th>\n",
              "      <td>1737912</td>\n",
              "      <td>71</td>\n",
              "      <td>3.581679</td>\n",
              "      <td>3.581679</td>\n",
              "      <td>3.581679</td>\n",
              "      <td>3.581679</td>\n",
              "      <td>3.581679</td>\n",
              "      <td>3.581679</td>\n",
              "      <td>3.581679</td>\n",
              "      <td>3.581679</td>\n",
              "      <td>3.581679</td>\n",
              "      <td>3.581679</td>\n",
              "      <td>3.581679</td>\n",
              "      <td>3.581679</td>\n",
              "      <td>3.581679</td>\n",
              "      <td>3</td>\n",
              "    </tr>\n",
              "    <tr>\n",
              "      <th>3</th>\n",
              "      <td>1849204</td>\n",
              "      <td>71</td>\n",
              "      <td>3.581679</td>\n",
              "      <td>3.581679</td>\n",
              "      <td>3.581679</td>\n",
              "      <td>3.581679</td>\n",
              "      <td>3.581679</td>\n",
              "      <td>3.581679</td>\n",
              "      <td>3.581679</td>\n",
              "      <td>3.581679</td>\n",
              "      <td>3.581679</td>\n",
              "      <td>3.581679</td>\n",
              "      <td>3.581679</td>\n",
              "      <td>3.581679</td>\n",
              "      <td>3.581679</td>\n",
              "      <td>4</td>\n",
              "    </tr>\n",
              "  </tbody>\n",
              "</table>\n",
              "</div>"
            ],
            "text/plain": [
              "      user  movie      GAvg      sur1  ...      smr5      UAvg      MAvg  rating\n",
              "0   808635     71  3.581679  3.581679  ...  3.581679  3.581679  3.581679       5\n",
              "1   941866     71  3.581679  3.581679  ...  3.581679  3.581679  3.581679       4\n",
              "2  1737912     71  3.581679  3.581679  ...  3.581679  3.581679  3.581679       3\n",
              "3  1849204     71  3.581679  3.581679  ...  3.581679  3.581679  3.581679       4\n",
              "\n",
              "[4 rows x 16 columns]"
            ]
          },
          "metadata": {
            "tags": []
          },
          "execution_count": 71
        }
      ]
    },
    {
      "cell_type": "markdown",
      "metadata": {
        "id": "_vWmzUruxrqx",
        "colab_type": "text"
      },
      "source": [
        "-----------------------\n",
        "\n",
        "- __GAvg__ : Average rating of all the ratings \n",
        "\n",
        "\n",
        "- __Similar users rating of this movie__:\n",
        "    - sur1, sur2, sur3, sur4, sur5 ( top 5 simiular users who rated that movie.. )\n",
        "    \n",
        "\n",
        "\n",
        "- __Similar movies rated by this user__:\n",
        "    - smr1, smr2, smr3, smr4, smr5 ( top 5 simiular movies rated by this movie.. )\n",
        "\n",
        "\n",
        "- __UAvg__ : User AVerage rating\n",
        "\n",
        "\n",
        "- __MAvg__ : Average rating of this movie\n",
        "\n",
        "\n",
        "- __rating__ : Rating of this movie by this user.\n",
        "\n",
        "-----------------------"
      ]
    },
    {
      "cell_type": "markdown",
      "metadata": {
        "id": "tLaiV_tZxrqy",
        "colab_type": "text"
      },
      "source": [
        "<h3> 4.3.2 Transforming data for Surprise models</h3>"
      ]
    },
    {
      "cell_type": "code",
      "metadata": {
        "id": "U0dfZZYFuyUz",
        "colab_type": "code",
        "colab": {}
      },
      "source": [
        "from surprise import Reader, Dataset"
      ],
      "execution_count": 0,
      "outputs": []
    },
    {
      "cell_type": "code",
      "metadata": {
        "id": "Yo7jAaRKxLJC",
        "colab_type": "code",
        "colab": {}
      },
      "source": [
        "# It is to specify how to read the dataframe.\n",
        "# for our dataframe, we don't have to specify anything extra..\n",
        "reader = Reader(rating_scale=(1,5))\n",
        "\n",
        "# create the traindata from the dataframe...\n",
        "train_data = Dataset.load_from_df(reg_train[['user', 'movie', 'rating']], reader)\n",
        "\n",
        "# build the trainset from traindata.., It is of dataset format from surprise library..\n",
        "trainset = train_data.build_full_trainset() "
      ],
      "execution_count": 0,
      "outputs": []
    },
    {
      "cell_type": "markdown",
      "metadata": {
        "id": "YzeK0zA9xrq0",
        "colab_type": "text"
      },
      "source": [
        "<h4> 4.3.2.1 Transforming train data </h4>"
      ]
    },
    {
      "cell_type": "markdown",
      "metadata": {
        "id": "0l0rgL1qxrq1",
        "colab_type": "text"
      },
      "source": [
        "- We can't give raw data (movie, user, rating) to train the model in Surprise library.\n",
        "\n",
        "\n",
        "- They have a saperate format for TRAIN and TEST data, which will be useful for training the models like SVD, KNNBaseLineOnly....etc..,in Surprise.\n",
        "\n",
        "\n",
        "- We can form the trainset from a file, or from a Pandas  DataFrame. \n",
        "http://surprise.readthedocs.io/en/stable/getting_started.html#load-dom-dataframe-py "
      ]
    },
    {
      "cell_type": "code",
      "metadata": {
        "id": "KM7fk8BcxX7v",
        "colab_type": "code",
        "colab": {
          "base_uri": "https://localhost:8080/",
          "height": 34
        },
        "outputId": "47826b1b-eed2-439a-dc05-ba1b116ad315"
      },
      "source": [
        "testset = list(zip(reg_test_df.user.values, reg_test_df.movie.values, reg_test_df.rating.values))\n",
        "testset[:3]"
      ],
      "execution_count": 75,
      "outputs": [
        {
          "output_type": "execute_result",
          "data": {
            "text/plain": [
              "[(808635, 71, 5), (941866, 71, 4), (1737912, 71, 3)]"
            ]
          },
          "metadata": {
            "tags": []
          },
          "execution_count": 75
        }
      ]
    },
    {
      "cell_type": "markdown",
      "metadata": {
        "id": "ZzgDaBL_xrq8",
        "colab_type": "text"
      },
      "source": [
        "<h2> 4.4 Applying Machine Learning models </h2>"
      ]
    },
    {
      "cell_type": "markdown",
      "metadata": {
        "id": "YRL_TP7axrq9",
        "colab_type": "text"
      },
      "source": [
        "-  Global dictionary that stores rmse and mape for all the models....\n",
        "\n",
        "    - It stores the metrics in a dictionary of dictionaries\n",
        "\n",
        "    > __keys__ : model names(string)\n",
        "\n",
        "    > __value__: dict(__key__ : metric, __value__ : value ) "
      ]
    },
    {
      "cell_type": "code",
      "metadata": {
        "id": "N4CtOs-BzVyX",
        "colab_type": "code",
        "colab": {
          "base_uri": "https://localhost:8080/",
          "height": 34
        },
        "outputId": "c3d11ee1-e994-44a9-c5db-e31223d97625"
      },
      "source": [
        "models_evaluation_train = dict()\n",
        "models_evaluation_test = dict()\n",
        "\n",
        "models_evaluation_train, models_evaluation_test"
      ],
      "execution_count": 80,
      "outputs": [
        {
          "output_type": "execute_result",
          "data": {
            "text/plain": [
              "({}, {})"
            ]
          },
          "metadata": {
            "tags": []
          },
          "execution_count": 80
        }
      ]
    },
    {
      "cell_type": "markdown",
      "metadata": {
        "id": "Cg4ii0eRxrrB",
        "colab_type": "text"
      },
      "source": [
        " > __Utility functions for running regression models__"
      ]
    },
    {
      "cell_type": "code",
      "metadata": {
        "id": "aMlkx5vrxdNZ",
        "colab_type": "code",
        "colab": {}
      },
      "source": [
        "# to get rmse and mape given actual and predicted ratings..\n",
        "def get_error_metrics(y_true, y_pred):\n",
        "    rmse = np.sqrt(np.mean([ (y_true[i] - y_pred[i])**2 for i in range(len(y_pred)) ]))\n",
        "    mape = np.mean(np.abs( (y_true - y_pred)/y_true )) * 100\n",
        "    return rmse, mape\n",
        "\n",
        "###################################################################\n",
        "###################################################################\n",
        "def run_xgboost(algo,  x_train, y_train, x_test, y_test, verbose=True):\n",
        "    \"\"\"\n",
        "    It will return train_results and test_results\n",
        "    \"\"\"\n",
        "    \n",
        "    # dictionaries for storing train and test results\n",
        "    train_results = dict()\n",
        "    test_results = dict()\n",
        "    \n",
        "    \n",
        "    # fit the model\n",
        "    print('Training the model..')\n",
        "    start =datetime.now()\n",
        "    algo.fit(x_train, y_train, eval_metric = 'rmse')\n",
        "    print('Done. Time taken : {}\\n'.format(datetime.now()-start))\n",
        "    print('Done \\n')\n",
        "\n",
        "    # from the trained model, get the predictions....\n",
        "    print('Evaluating the model with TRAIN data...')\n",
        "    start =datetime.now()\n",
        "    y_train_pred = algo.predict(x_train)\n",
        "    # get the rmse and mape of train data...\n",
        "    rmse_train, mape_train = get_error_metrics(y_train.values, y_train_pred)\n",
        "    \n",
        "    # store the results in train_results dictionary..\n",
        "    train_results = {'rmse': rmse_train,\n",
        "                    'mape' : mape_train,\n",
        "                    'predictions' : y_train_pred}\n",
        "    \n",
        "    #######################################\n",
        "    # get the test data predictions and compute rmse and mape\n",
        "    print('Evaluating Test data')\n",
        "    y_test_pred = algo.predict(x_test) \n",
        "    rmse_test, mape_test = get_error_metrics(y_true=y_test.values, y_pred=y_test_pred)\n",
        "    # store them in our test results dictionary.\n",
        "    test_results = {'rmse': rmse_test,\n",
        "                    'mape' : mape_test,\n",
        "                    'predictions':y_test_pred}\n",
        "    if verbose:\n",
        "        print('\\nTEST DATA')\n",
        "        print('-'*30)\n",
        "        print('RMSE : ', rmse_test)\n",
        "        print('MAPE : ', mape_test)\n",
        "        \n",
        "    # return these train and test results...\n",
        "    return train_results, test_results\n",
        "    "
      ],
      "execution_count": 0,
      "outputs": []
    },
    {
      "cell_type": "markdown",
      "metadata": {
        "id": "eABdBWP_xrrF",
        "colab_type": "text"
      },
      "source": [
        "> __Utility functions for Surprise modes__"
      ]
    },
    {
      "cell_type": "code",
      "metadata": {
        "id": "shCPgq3rzHeR",
        "colab_type": "code",
        "colab": {}
      },
      "source": [
        "# it is just to makesure that all of our algorithms should produce same results\n",
        "# everytime they run...\n",
        "\n",
        "my_seed = 15\n",
        "random.seed(my_seed)\n",
        "np.random.seed(my_seed)\n",
        "\n",
        "##########################################################\n",
        "# get  (actual_list , predicted_list) ratings given list \n",
        "# of predictions (prediction is a class in Surprise).    \n",
        "##########################################################\n",
        "def get_ratings(predictions):\n",
        "    actual = np.array([pred.r_ui for pred in predictions])\n",
        "    pred = np.array([pred.est for pred in predictions])\n",
        "    \n",
        "    return actual, pred\n",
        "\n",
        "################################################################\n",
        "# get ''rmse'' and ''mape'' , given list of prediction objecs \n",
        "################################################################\n",
        "def get_errors(predictions, print_them=False):\n",
        "\n",
        "    actual, pred = get_ratings(predictions)\n",
        "    rmse = np.sqrt(np.mean((pred - actual)**2))\n",
        "    mape = np.mean(np.abs(pred - actual)/actual)\n",
        "\n",
        "    return rmse, mape*100\n",
        "\n",
        "##################################################################################\n",
        "# It will return predicted ratings, rmse and mape of both train and test data   #\n",
        "##################################################################################\n",
        "def run_surprise(algo, trainset, testset, verbose=True): \n",
        "    '''\n",
        "        return train_dict, test_dict\n",
        "    \n",
        "        It returns two dictionaries, one for train and the other is for test\n",
        "        Each of them have 3 key-value pairs, which specify ''rmse'', ''mape'', and ''predicted ratings''.\n",
        "    '''\n",
        "    start = datetime.now()\n",
        "    # dictionaries that stores metrics for train and test..\n",
        "    train = dict()\n",
        "    test = dict()\n",
        "    \n",
        "    # train the algorithm with the trainset\n",
        "    st = datetime.now()\n",
        "    print('Training the model...')\n",
        "    algo.fit(trainset)\n",
        "    print('Done. time taken : {} \\n'.format(datetime.now()-st))\n",
        "    \n",
        "    # ---------------- Evaluating train data--------------------#\n",
        "    st = datetime.now()\n",
        "    print('Evaluating the model with train data..')\n",
        "    # get the train predictions (list of prediction class inside Surprise)\n",
        "    train_preds = algo.test(trainset.build_testset())\n",
        "    # get predicted ratings from the train predictions..\n",
        "    train_actual_ratings, train_pred_ratings = get_ratings(train_preds)\n",
        "    # get ''rmse'' and ''mape'' from the train predictions.\n",
        "    train_rmse, train_mape = get_errors(train_preds)\n",
        "    print('time taken : {}'.format(datetime.now()-st))\n",
        "    \n",
        "    if verbose:\n",
        "        print('-'*15)\n",
        "        print('Train Data')\n",
        "        print('-'*15)\n",
        "        print(\"RMSE : {}\\n\\nMAPE : {}\\n\".format(train_rmse, train_mape))\n",
        "    \n",
        "    #store them in the train dictionary\n",
        "    if verbose:\n",
        "        print('adding train results in the dictionary..')\n",
        "    train['rmse'] = train_rmse\n",
        "    train['mape'] = train_mape\n",
        "    train['predictions'] = train_pred_ratings\n",
        "    \n",
        "    #------------ Evaluating Test data---------------#\n",
        "    st = datetime.now()\n",
        "    print('\\nEvaluating for test data...')\n",
        "    # get the predictions( list of prediction classes) of test data\n",
        "    test_preds = algo.test(testset)\n",
        "    # get the predicted ratings from the list of predictions\n",
        "    test_actual_ratings, test_pred_ratings = get_ratings(test_preds)\n",
        "    # get error metrics from the predicted and actual ratings\n",
        "    test_rmse, test_mape = get_errors(test_preds)\n",
        "    print('time taken : {}'.format(datetime.now()-st))\n",
        "    \n",
        "    if verbose:\n",
        "        print('-'*15)\n",
        "        print('Test Data')\n",
        "        print('-'*15)\n",
        "        print(\"RMSE : {}\\n\\nMAPE : {}\\n\".format(test_rmse, test_mape))\n",
        "    # store them in test dictionary\n",
        "    if verbose:\n",
        "        print('storing the test results in test dictionary...')\n",
        "    test['rmse'] = test_rmse\n",
        "    test['mape'] = test_mape\n",
        "    test['predictions'] = test_pred_ratings\n",
        "    \n",
        "    print('\\n'+'-'*45)\n",
        "    print('Total time taken to run this algorithm :', datetime.now() - start)\n",
        "    \n",
        "    # return two dictionaries train and test\n",
        "    return train, test"
      ],
      "execution_count": 0,
      "outputs": []
    },
    {
      "cell_type": "markdown",
      "metadata": {
        "id": "Jh6CNDb1xrrI",
        "colab_type": "text"
      },
      "source": [
        "<h3> 4.4.1 XGBoost with initial 13 features </h3>"
      ]
    },
    {
      "cell_type": "code",
      "metadata": {
        "id": "On3H_tCTzIsV",
        "colab_type": "code",
        "colab": {}
      },
      "source": [
        "import xgboost as xgb"
      ],
      "execution_count": 0,
      "outputs": []
    },
    {
      "cell_type": "code",
      "metadata": {
        "id": "hvgHYIUwzJ9D",
        "colab_type": "code",
        "colab": {
          "base_uri": "https://localhost:8080/",
          "height": 523
        },
        "outputId": "904ee271-a806-4a6c-fd61-5121fb252734"
      },
      "source": [
        "# prepare Train data\n",
        "x_train = reg_train.drop(['user','movie','rating'], axis=1)\n",
        "y_train = reg_train['rating']\n",
        "\n",
        "# Prepare Test data\n",
        "x_test = reg_test_df.drop(['user','movie','rating'], axis=1)\n",
        "y_test = reg_test_df['rating']\n",
        "\n",
        "# initialize Our first XGBoost model...\n",
        "first_xgb = xgb.XGBRegressor(silent=False, n_jobs=13, random_state=15, n_estimators=100)\n",
        "train_results, test_results = run_xgboost(first_xgb, x_train, y_train, x_test, y_test)\n",
        "\n",
        "# store the results in models_evaluations dictionaries\n",
        "models_evaluation_train['first_algo'] = train_results\n",
        "models_evaluation_test['first_algo'] = test_results\n",
        "\n",
        "xgb.plot_importance(first_xgb)\n",
        "plt.show()"
      ],
      "execution_count": 81,
      "outputs": [
        {
          "output_type": "stream",
          "text": [
            "Training the model..\n",
            "[15:56:13] WARNING: /workspace/src/objective/regression_obj.cu:152: reg:linear is now deprecated in favor of reg:squarederror.\n",
            "Done. Time taken : 0:00:03.626916\n",
            "\n",
            "Done \n",
            "\n",
            "Evaluating the model with TRAIN data...\n",
            "Evaluating Test data\n",
            "\n",
            "TEST DATA\n",
            "------------------------------\n",
            "RMSE :  1.076373581778953\n",
            "MAPE :  34.48223172520999\n"
          ],
          "name": "stdout"
        },
        {
          "output_type": "display_data",
          "data": {
            "image/png": "[encoded data removed]",
            "text/plain": [
              "<Figure size 432x288 with 1 Axes>"
            ]
          },
          "metadata": {
            "tags": []
          }
        }
      ]
    },
    {
      "cell_type": "markdown",
      "metadata": {
        "id": "FUG-CnKpxrrP",
        "colab_type": "text"
      },
      "source": [
        "<h3> 4.4.2 Suprise BaselineModel </h3>\n",
        "    \n"
      ]
    },
    {
      "cell_type": "code",
      "metadata": {
        "id": "Ekr_m7xazLEc",
        "colab_type": "code",
        "colab": {}
      },
      "source": [
        "from surprise import BaselineOnly "
      ],
      "execution_count": 0,
      "outputs": []
    },
    {
      "cell_type": "code",
      "metadata": {
        "id": "ZR8vLf4dz9nm",
        "colab_type": "code",
        "colab": {
          "base_uri": "https://localhost:8080/",
          "height": 509
        },
        "outputId": "1e7fe56d-1642-46a9-e054-18bd6e77001c"
      },
      "source": [
        "# options are to specify.., how to compute those user and item biases\n",
        "bsl_options = {'method': 'sgd',\n",
        "               'learning_rate': .001\n",
        "               }\n",
        "bsl_algo = BaselineOnly(bsl_options=bsl_options)\n",
        "# run this algorithm.., It will return the train and test results..\n",
        "bsl_train_results, bsl_test_results = run_surprise(bsl_algo, trainset, testset, verbose=True)\n",
        "\n",
        "\n",
        "# Just store these error metrics in our models_evaluation datastructure\n",
        "models_evaluation_train['bsl_algo'] = bsl_train_results \n",
        "models_evaluation_test['bsl_algo'] = bsl_test_results"
      ],
      "execution_count": 84,
      "outputs": [
        {
          "output_type": "stream",
          "text": [
            "Training the model...\n",
            "Estimating biases using sgd...\n",
            "Done. time taken : 0:00:00.973148 \n",
            "\n",
            "Evaluating the model with train data..\n",
            "time taken : 0:00:01.112549\n",
            "---------------\n",
            "Train Data\n",
            "---------------\n",
            "RMSE : 0.9347153928678286\n",
            "\n",
            "MAPE : 29.389572652358183\n",
            "\n",
            "adding train results in the dictionary..\n",
            "\n",
            "Evaluating for test data...\n",
            "time taken : 0:00:00.061939\n",
            "---------------\n",
            "Test Data\n",
            "---------------\n",
            "RMSE : 1.0730330260516174\n",
            "\n",
            "MAPE : 35.04995544572911\n",
            "\n",
            "storing the test results in test dictionary...\n",
            "\n",
            "---------------------------------------------\n",
            "Total time taken to run this algorithm : 0:00:02.148882\n"
          ],
          "name": "stdout"
        }
      ]
    },
    {
      "cell_type": "markdown",
      "metadata": {
        "id": "AX3Zrio7xrrU",
        "colab_type": "text"
      },
      "source": [
        "<h3> 4.4.3 XGBoost with initial 13 features + Surprise Baseline predictor </h3>"
      ]
    },
    {
      "cell_type": "markdown",
      "metadata": {
        "id": "ab0DLIymxrrV",
        "colab_type": "text"
      },
      "source": [
        "__Updating Train Data__"
      ]
    },
    {
      "cell_type": "code",
      "metadata": {
        "id": "wrbmNejI0EyO",
        "colab_type": "code",
        "colab": {
          "base_uri": "https://localhost:8080/",
          "height": 108
        },
        "outputId": "9c1a946e-2cb1-4025-9aa8-64553e959945"
      },
      "source": [
        "# add our baseline_predicted value as our feature..\n",
        "reg_train['bslpr'] = models_evaluation_train['bsl_algo']['predictions']\n",
        "reg_train.head(2) "
      ],
      "execution_count": 85,
      "outputs": [
        {
          "output_type": "execute_result",
          "data": {
            "text/html": [
              "<div>\n",
              "<style scoped>\n",
              "    .dataframe tbody tr th:only-of-type {\n",
              "        vertical-align: middle;\n",
              "    }\n",
              "\n",
              "    .dataframe tbody tr th {\n",
              "        vertical-align: top;\n",
              "    }\n",
              "\n",
              "    .dataframe thead th {\n",
              "        text-align: right;\n",
              "    }\n",
              "</style>\n",
              "<table border=\"1\" class=\"dataframe\">\n",
              "  <thead>\n",
              "    <tr style=\"text-align: right;\">\n",
              "      <th></th>\n",
              "      <th>user</th>\n",
              "      <th>movie</th>\n",
              "      <th>GAvg</th>\n",
              "      <th>sur1</th>\n",
              "      <th>sur2</th>\n",
              "      <th>sur3</th>\n",
              "      <th>sur4</th>\n",
              "      <th>sur5</th>\n",
              "      <th>smr1</th>\n",
              "      <th>smr2</th>\n",
              "      <th>smr3</th>\n",
              "      <th>smr4</th>\n",
              "      <th>smr5</th>\n",
              "      <th>UAvg</th>\n",
              "      <th>MAvg</th>\n",
              "      <th>rating</th>\n",
              "      <th>bslpr</th>\n",
              "    </tr>\n",
              "  </thead>\n",
              "  <tbody>\n",
              "    <tr>\n",
              "      <th>0</th>\n",
              "      <td>53406</td>\n",
              "      <td>33</td>\n",
              "      <td>3.581679</td>\n",
              "      <td>4.0</td>\n",
              "      <td>5.0</td>\n",
              "      <td>5.0</td>\n",
              "      <td>4.0</td>\n",
              "      <td>1.0</td>\n",
              "      <td>5.0</td>\n",
              "      <td>2.0</td>\n",
              "      <td>5.0</td>\n",
              "      <td>3.0</td>\n",
              "      <td>1.0</td>\n",
              "      <td>3.370370</td>\n",
              "      <td>4.092437</td>\n",
              "      <td>4</td>\n",
              "      <td>3.898982</td>\n",
              "    </tr>\n",
              "    <tr>\n",
              "      <th>1</th>\n",
              "      <td>99540</td>\n",
              "      <td>33</td>\n",
              "      <td>3.581679</td>\n",
              "      <td>5.0</td>\n",
              "      <td>5.0</td>\n",
              "      <td>5.0</td>\n",
              "      <td>4.0</td>\n",
              "      <td>5.0</td>\n",
              "      <td>3.0</td>\n",
              "      <td>4.0</td>\n",
              "      <td>4.0</td>\n",
              "      <td>3.0</td>\n",
              "      <td>5.0</td>\n",
              "      <td>3.555556</td>\n",
              "      <td>4.092437</td>\n",
              "      <td>3</td>\n",
              "      <td>3.371403</td>\n",
              "    </tr>\n",
              "  </tbody>\n",
              "</table>\n",
              "</div>"
            ],
            "text/plain": [
              "    user  movie      GAvg  sur1  ...      UAvg      MAvg  rating     bslpr\n",
              "0  53406     33  3.581679   4.0  ...  3.370370  4.092437       4  3.898982\n",
              "1  99540     33  3.581679   5.0  ...  3.555556  4.092437       3  3.371403\n",
              "\n",
              "[2 rows x 17 columns]"
            ]
          },
          "metadata": {
            "tags": []
          },
          "execution_count": 85
        }
      ]
    },
    {
      "cell_type": "markdown",
      "metadata": {
        "id": "ZhhIJM6ExrrW",
        "colab_type": "text"
      },
      "source": [
        "__Updating Test Data__"
      ]
    },
    {
      "cell_type": "code",
      "metadata": {
        "id": "5OdlP77Z1STl",
        "colab_type": "code",
        "colab": {
          "base_uri": "https://localhost:8080/",
          "height": 128
        },
        "outputId": "d5abd362-e4a0-4de3-e219-675a166f0ee9"
      },
      "source": [
        "# add that baseline predicted ratings with Surprise to the test data as well\n",
        "reg_test_df['bslpr']  = models_evaluation_test['bsl_algo']['predictions']\n",
        "reg_test_df.head(2)"
      ],
      "execution_count": 86,
      "outputs": [
        {
          "output_type": "execute_result",
          "data": {
            "text/html": [
              "<div>\n",
              "<style scoped>\n",
              "    .dataframe tbody tr th:only-of-type {\n",
              "        vertical-align: middle;\n",
              "    }\n",
              "\n",
              "    .dataframe tbody tr th {\n",
              "        vertical-align: top;\n",
              "    }\n",
              "\n",
              "    .dataframe thead th {\n",
              "        text-align: right;\n",
              "    }\n",
              "</style>\n",
              "<table border=\"1\" class=\"dataframe\">\n",
              "  <thead>\n",
              "    <tr style=\"text-align: right;\">\n",
              "      <th></th>\n",
              "      <th>user</th>\n",
              "      <th>movie</th>\n",
              "      <th>GAvg</th>\n",
              "      <th>sur1</th>\n",
              "      <th>sur2</th>\n",
              "      <th>sur3</th>\n",
              "      <th>sur4</th>\n",
              "      <th>sur5</th>\n",
              "      <th>smr1</th>\n",
              "      <th>smr2</th>\n",
              "      <th>smr3</th>\n",
              "      <th>smr4</th>\n",
              "      <th>smr5</th>\n",
              "      <th>UAvg</th>\n",
              "      <th>MAvg</th>\n",
              "      <th>rating</th>\n",
              "      <th>bslpr</th>\n",
              "    </tr>\n",
              "  </thead>\n",
              "  <tbody>\n",
              "    <tr>\n",
              "      <th>0</th>\n",
              "      <td>808635</td>\n",
              "      <td>71</td>\n",
              "      <td>3.581679</td>\n",
              "      <td>3.581679</td>\n",
              "      <td>3.581679</td>\n",
              "      <td>3.581679</td>\n",
              "      <td>3.581679</td>\n",
              "      <td>3.581679</td>\n",
              "      <td>3.581679</td>\n",
              "      <td>3.581679</td>\n",
              "      <td>3.581679</td>\n",
              "      <td>3.581679</td>\n",
              "      <td>3.581679</td>\n",
              "      <td>3.581679</td>\n",
              "      <td>3.581679</td>\n",
              "      <td>5</td>\n",
              "      <td>3.581679</td>\n",
              "    </tr>\n",
              "    <tr>\n",
              "      <th>1</th>\n",
              "      <td>941866</td>\n",
              "      <td>71</td>\n",
              "      <td>3.581679</td>\n",
              "      <td>3.581679</td>\n",
              "      <td>3.581679</td>\n",
              "      <td>3.581679</td>\n",
              "      <td>3.581679</td>\n",
              "      <td>3.581679</td>\n",
              "      <td>3.581679</td>\n",
              "      <td>3.581679</td>\n",
              "      <td>3.581679</td>\n",
              "      <td>3.581679</td>\n",
              "      <td>3.581679</td>\n",
              "      <td>3.581679</td>\n",
              "      <td>3.581679</td>\n",
              "      <td>4</td>\n",
              "      <td>3.581679</td>\n",
              "    </tr>\n",
              "  </tbody>\n",
              "</table>\n",
              "</div>"
            ],
            "text/plain": [
              "     user  movie      GAvg      sur1  ...      UAvg      MAvg  rating     bslpr\n",
              "0  808635     71  3.581679  3.581679  ...  3.581679  3.581679       5  3.581679\n",
              "1  941866     71  3.581679  3.581679  ...  3.581679  3.581679       4  3.581679\n",
              "\n",
              "[2 rows x 17 columns]"
            ]
          },
          "metadata": {
            "tags": []
          },
          "execution_count": 86
        }
      ]
    },
    {
      "cell_type": "code",
      "metadata": {
        "id": "Cay8mHN-1VG0",
        "colab_type": "code",
        "colab": {
          "base_uri": "https://localhost:8080/",
          "height": 523
        },
        "outputId": "bbf584c4-6191-4a72-b0ff-199a57fb64c3"
      },
      "source": [
        "# prepare train data\n",
        "x_train = reg_train.drop(['user', 'movie','rating'], axis=1)\n",
        "y_train = reg_train['rating']\n",
        "\n",
        "# Prepare Test data\n",
        "x_test = reg_test_df.drop(['user','movie','rating'], axis=1)\n",
        "y_test = reg_test_df['rating']\n",
        "\n",
        "# initialize Our first XGBoost model...\n",
        "xgb_bsl = xgb.XGBRegressor(silent=False, n_jobs=13, random_state=15, n_estimators=100)\n",
        "train_results, test_results = run_xgboost(xgb_bsl, x_train, y_train, x_test, y_test)\n",
        "\n",
        "# store the results in models_evaluations dictionaries\n",
        "models_evaluation_train['xgb_bsl'] = train_results\n",
        "models_evaluation_test['xgb_bsl'] = test_results\n",
        "\n",
        "xgb.plot_importance(xgb_bsl)\n",
        "plt.show()\n"
      ],
      "execution_count": 87,
      "outputs": [
        {
          "output_type": "stream",
          "text": [
            "Training the model..\n",
            "[16:05:05] WARNING: /workspace/src/objective/regression_obj.cu:152: reg:linear is now deprecated in favor of reg:squarederror.\n",
            "Done. Time taken : 0:00:04.281029\n",
            "\n",
            "Done \n",
            "\n",
            "Evaluating the model with TRAIN data...\n",
            "Evaluating Test data\n",
            "\n",
            "TEST DATA\n",
            "------------------------------\n",
            "RMSE :  1.0765603714651855\n",
            "MAPE :  34.4648051883444\n"
          ],
          "name": "stdout"
        },
        {
          "output_type": "display_data",
          "data": {
            "image/png": "[encoded data removed]",
            "text/plain": [
              "<Figure size 432x288 with 1 Axes>"
            ]
          },
          "metadata": {
            "tags": []
          }
        }
      ]
    },
    {
      "cell_type": "markdown",
      "metadata": {
        "id": "VCI_ZO0uxrrm",
        "colab_type": "text"
      },
      "source": [
        "  <h4> 4.4.4.1 Surprise KNNBaseline with user user similarities</h4>"
      ]
    },
    {
      "cell_type": "markdown",
      "metadata": {
        "id": "2w39xJPlxrrh",
        "colab_type": "text"
      },
      "source": [
        "<h3> 4.4.4 Surprise KNNBaseline predictor </h3>"
      ]
    },
    {
      "cell_type": "code",
      "metadata": {
        "id": "Vas1r_DZ1ZRl",
        "colab_type": "code",
        "colab": {}
      },
      "source": [
        "from surprise import KNNBaseline"
      ],
      "execution_count": 0,
      "outputs": []
    },
    {
      "cell_type": "code",
      "metadata": {
        "id": "TsKbLl231fkK",
        "colab_type": "code",
        "colab": {
          "base_uri": "https://localhost:8080/",
          "height": 544
        },
        "outputId": "d0156b08-3ae7-4519-8b85-dfa46db50a88"
      },
      "source": [
        "# we specify , how to compute similarities and what to consider with sim_options to our algorithm\n",
        "sim_options = {'user_based' : True,\n",
        "               'name': 'pearson_baseline',\n",
        "               'shrinkage': 100,\n",
        "               'min_support': 2\n",
        "              } \n",
        "# we keep other parameters like regularization parameter and learning_rate as default values.\n",
        "bsl_options = {'method': 'sgd'} \n",
        "\n",
        "knn_bsl_u = KNNBaseline(k=40, sim_options = sim_options, bsl_options = bsl_options)\n",
        "knn_bsl_u_train_results, knn_bsl_u_test_results = run_surprise(knn_bsl_u, trainset, testset, verbose=True)\n",
        "\n",
        "# Just store these error metrics in our models_evaluation datastructure\n",
        "models_evaluation_train['knn_bsl_u'] = knn_bsl_u_train_results \n",
        "models_evaluation_test['knn_bsl_u'] = knn_bsl_u_test_results"
      ],
      "execution_count": 89,
      "outputs": [
        {
          "output_type": "stream",
          "text": [
            "Training the model...\n",
            "Estimating biases using sgd...\n",
            "Computing the pearson_baseline similarity matrix...\n",
            "Done computing similarity matrix.\n",
            "Done. time taken : 0:00:31.627386 \n",
            "\n",
            "Evaluating the model with train data..\n",
            "time taken : 0:01:42.537136\n",
            "---------------\n",
            "Train Data\n",
            "---------------\n",
            "RMSE : 0.33642097416508826\n",
            "\n",
            "MAPE : 9.145093375416348\n",
            "\n",
            "adding train results in the dictionary..\n",
            "\n",
            "Evaluating for test data...\n",
            "time taken : 0:00:00.065795\n",
            "---------------\n",
            "Test Data\n",
            "---------------\n",
            "RMSE : 1.0726493739667242\n",
            "\n",
            "MAPE : 35.02094499698424\n",
            "\n",
            "storing the test results in test dictionary...\n",
            "\n",
            "---------------------------------------------\n",
            "Total time taken to run this algorithm : 0:02:14.231553\n"
          ],
          "name": "stdout"
        }
      ]
    },
    {
      "cell_type": "markdown",
      "metadata": {
        "id": "Kd9yvmiLxrro",
        "colab_type": "text"
      },
      "source": [
        "<h4> 4.4.4.2 Surprise KNNBaseline with movie movie similarities</h4>"
      ]
    },
    {
      "cell_type": "code",
      "metadata": {
        "id": "sp_kvWO11jS5",
        "colab_type": "code",
        "colab": {
          "base_uri": "https://localhost:8080/",
          "height": 544
        },
        "outputId": "078c9dc2-02b3-4a11-d0a2-3b5c91e78fa6"
      },
      "source": [
        "# we specify , how to compute similarities and what to consider with sim_options to our algorithm\n",
        "\n",
        "# 'user_based' : Fals => this considers the similarities of movies instead of users\n",
        "\n",
        "sim_options = {'user_based' : False,\n",
        "               'name': 'pearson_baseline',\n",
        "               'shrinkage': 100,\n",
        "               'min_support': 2\n",
        "              } \n",
        "# we keep other parameters like regularization parameter and learning_rate as default values.\n",
        "bsl_options = {'method': 'sgd'}\n",
        "\n",
        "\n",
        "knn_bsl_m = KNNBaseline(k=40, sim_options = sim_options, bsl_options = bsl_options)\n",
        "\n",
        "knn_bsl_m_train_results, knn_bsl_m_test_results = run_surprise(knn_bsl_m, trainset, testset, verbose=True)\n",
        "\n",
        "# Just store these error metrics in our models_evaluation datastructure\n",
        "models_evaluation_train['knn_bsl_m'] = knn_bsl_m_train_results \n",
        "models_evaluation_test['knn_bsl_m'] = knn_bsl_m_test_results\n"
      ],
      "execution_count": 90,
      "outputs": [
        {
          "output_type": "stream",
          "text": [
            "Training the model...\n",
            "Estimating biases using sgd...\n",
            "Computing the pearson_baseline similarity matrix...\n",
            "Done computing similarity matrix.\n",
            "Done. time taken : 0:00:01.220304 \n",
            "\n",
            "Evaluating the model with train data..\n",
            "time taken : 0:00:09.223248\n",
            "---------------\n",
            "Train Data\n",
            "---------------\n",
            "RMSE : 0.32584796251610554\n",
            "\n",
            "MAPE : 8.447062581998374\n",
            "\n",
            "adding train results in the dictionary..\n",
            "\n",
            "Evaluating for test data...\n",
            "time taken : 0:00:00.065648\n",
            "---------------\n",
            "Test Data\n",
            "---------------\n",
            "RMSE : 1.072758832653683\n",
            "\n",
            "MAPE : 35.02269653015042\n",
            "\n",
            "storing the test results in test dictionary...\n",
            "\n",
            "---------------------------------------------\n",
            "Total time taken to run this algorithm : 0:00:10.510879\n"
          ],
          "name": "stdout"
        }
      ]
    },
    {
      "cell_type": "markdown",
      "metadata": {
        "id": "BFN8SP06xrrr",
        "colab_type": "text"
      },
      "source": [
        "<h3> 4.4.5 XGBoost with initial 13 features + Surprise Baseline predictor + KNNBaseline predictor </h3>"
      ]
    },
    {
      "cell_type": "code",
      "metadata": {
        "id": "tLhp2kG86Dcy",
        "colab_type": "code",
        "colab": {
          "base_uri": "https://localhost:8080/",
          "height": 128
        },
        "outputId": "3554b0c7-5a3b-4790-df77-fba5e1e7f531"
      },
      "source": [
        "# add the predicted values from both knns to this dataframe\n",
        "reg_train['knn_bsl_u'] = models_evaluation_train['knn_bsl_u']['predictions']\n",
        "reg_train['knn_bsl_m'] = models_evaluation_train['knn_bsl_m']['predictions']\n",
        "\n",
        "reg_train.head(2)"
      ],
      "execution_count": 91,
      "outputs": [
        {
          "output_type": "execute_result",
          "data": {
            "text/html": [
              "<div>\n",
              "<style scoped>\n",
              "    .dataframe tbody tr th:only-of-type {\n",
              "        vertical-align: middle;\n",
              "    }\n",
              "\n",
              "    .dataframe tbody tr th {\n",
              "        vertical-align: top;\n",
              "    }\n",
              "\n",
              "    .dataframe thead th {\n",
              "        text-align: right;\n",
              "    }\n",
              "</style>\n",
              "<table border=\"1\" class=\"dataframe\">\n",
              "  <thead>\n",
              "    <tr style=\"text-align: right;\">\n",
              "      <th></th>\n",
              "      <th>user</th>\n",
              "      <th>movie</th>\n",
              "      <th>GAvg</th>\n",
              "      <th>sur1</th>\n",
              "      <th>sur2</th>\n",
              "      <th>sur3</th>\n",
              "      <th>sur4</th>\n",
              "      <th>sur5</th>\n",
              "      <th>smr1</th>\n",
              "      <th>smr2</th>\n",
              "      <th>smr3</th>\n",
              "      <th>smr4</th>\n",
              "      <th>smr5</th>\n",
              "      <th>UAvg</th>\n",
              "      <th>MAvg</th>\n",
              "      <th>rating</th>\n",
              "      <th>bslpr</th>\n",
              "      <th>knn_bsl_u</th>\n",
              "      <th>knn_bsl_m</th>\n",
              "    </tr>\n",
              "  </thead>\n",
              "  <tbody>\n",
              "    <tr>\n",
              "      <th>0</th>\n",
              "      <td>53406</td>\n",
              "      <td>33</td>\n",
              "      <td>3.581679</td>\n",
              "      <td>4.0</td>\n",
              "      <td>5.0</td>\n",
              "      <td>5.0</td>\n",
              "      <td>4.0</td>\n",
              "      <td>1.0</td>\n",
              "      <td>5.0</td>\n",
              "      <td>2.0</td>\n",
              "      <td>5.0</td>\n",
              "      <td>3.0</td>\n",
              "      <td>1.0</td>\n",
              "      <td>3.370370</td>\n",
              "      <td>4.092437</td>\n",
              "      <td>4</td>\n",
              "      <td>3.898982</td>\n",
              "      <td>3.93002</td>\n",
              "      <td>3.867958</td>\n",
              "    </tr>\n",
              "    <tr>\n",
              "      <th>1</th>\n",
              "      <td>99540</td>\n",
              "      <td>33</td>\n",
              "      <td>3.581679</td>\n",
              "      <td>5.0</td>\n",
              "      <td>5.0</td>\n",
              "      <td>5.0</td>\n",
              "      <td>4.0</td>\n",
              "      <td>5.0</td>\n",
              "      <td>3.0</td>\n",
              "      <td>4.0</td>\n",
              "      <td>4.0</td>\n",
              "      <td>3.0</td>\n",
              "      <td>5.0</td>\n",
              "      <td>3.555556</td>\n",
              "      <td>4.092437</td>\n",
              "      <td>3</td>\n",
              "      <td>3.371403</td>\n",
              "      <td>3.17733</td>\n",
              "      <td>3.076302</td>\n",
              "    </tr>\n",
              "  </tbody>\n",
              "</table>\n",
              "</div>"
            ],
            "text/plain": [
              "    user  movie      GAvg  sur1  ...  rating     bslpr  knn_bsl_u  knn_bsl_m\n",
              "0  53406     33  3.581679   4.0  ...       4  3.898982    3.93002   3.867958\n",
              "1  99540     33  3.581679   5.0  ...       3  3.371403    3.17733   3.076302\n",
              "\n",
              "[2 rows x 19 columns]"
            ]
          },
          "metadata": {
            "tags": []
          },
          "execution_count": 91
        }
      ]
    },
    {
      "cell_type": "code",
      "metadata": {
        "id": "2ScVL6GA6LoI",
        "colab_type": "code",
        "colab": {
          "base_uri": "https://localhost:8080/",
          "height": 128
        },
        "outputId": "320beb2b-ace5-462e-c753-808289d584d5"
      },
      "source": [
        "reg_test_df['knn_bsl_u'] = models_evaluation_test['knn_bsl_u']['predictions']\n",
        "reg_test_df['knn_bsl_m'] = models_evaluation_test['knn_bsl_m']['predictions']\n",
        "\n",
        "reg_test_df.head(2)"
      ],
      "execution_count": 92,
      "outputs": [
        {
          "output_type": "execute_result",
          "data": {
            "text/html": [
              "<div>\n",
              "<style scoped>\n",
              "    .dataframe tbody tr th:only-of-type {\n",
              "        vertical-align: middle;\n",
              "    }\n",
              "\n",
              "    .dataframe tbody tr th {\n",
              "        vertical-align: top;\n",
              "    }\n",
              "\n",
              "    .dataframe thead th {\n",
              "        text-align: right;\n",
              "    }\n",
              "</style>\n",
              "<table border=\"1\" class=\"dataframe\">\n",
              "  <thead>\n",
              "    <tr style=\"text-align: right;\">\n",
              "      <th></th>\n",
              "      <th>user</th>\n",
              "      <th>movie</th>\n",
              "      <th>GAvg</th>\n",
              "      <th>sur1</th>\n",
              "      <th>sur2</th>\n",
              "      <th>sur3</th>\n",
              "      <th>sur4</th>\n",
              "      <th>sur5</th>\n",
              "      <th>smr1</th>\n",
              "      <th>smr2</th>\n",
              "      <th>smr3</th>\n",
              "      <th>smr4</th>\n",
              "      <th>smr5</th>\n",
              "      <th>UAvg</th>\n",
              "      <th>MAvg</th>\n",
              "      <th>rating</th>\n",
              "      <th>bslpr</th>\n",
              "      <th>knn_bsl_u</th>\n",
              "      <th>knn_bsl_m</th>\n",
              "    </tr>\n",
              "  </thead>\n",
              "  <tbody>\n",
              "    <tr>\n",
              "      <th>0</th>\n",
              "      <td>808635</td>\n",
              "      <td>71</td>\n",
              "      <td>3.581679</td>\n",
              "      <td>3.581679</td>\n",
              "      <td>3.581679</td>\n",
              "      <td>3.581679</td>\n",
              "      <td>3.581679</td>\n",
              "      <td>3.581679</td>\n",
              "      <td>3.581679</td>\n",
              "      <td>3.581679</td>\n",
              "      <td>3.581679</td>\n",
              "      <td>3.581679</td>\n",
              "      <td>3.581679</td>\n",
              "      <td>3.581679</td>\n",
              "      <td>3.581679</td>\n",
              "      <td>5</td>\n",
              "      <td>3.581679</td>\n",
              "      <td>3.581679</td>\n",
              "      <td>3.581679</td>\n",
              "    </tr>\n",
              "    <tr>\n",
              "      <th>1</th>\n",
              "      <td>941866</td>\n",
              "      <td>71</td>\n",
              "      <td>3.581679</td>\n",
              "      <td>3.581679</td>\n",
              "      <td>3.581679</td>\n",
              "      <td>3.581679</td>\n",
              "      <td>3.581679</td>\n",
              "      <td>3.581679</td>\n",
              "      <td>3.581679</td>\n",
              "      <td>3.581679</td>\n",
              "      <td>3.581679</td>\n",
              "      <td>3.581679</td>\n",
              "      <td>3.581679</td>\n",
              "      <td>3.581679</td>\n",
              "      <td>3.581679</td>\n",
              "      <td>4</td>\n",
              "      <td>3.581679</td>\n",
              "      <td>3.581679</td>\n",
              "      <td>3.581679</td>\n",
              "    </tr>\n",
              "  </tbody>\n",
              "</table>\n",
              "</div>"
            ],
            "text/plain": [
              "     user  movie      GAvg      sur1  ...  rating     bslpr  knn_bsl_u  knn_bsl_m\n",
              "0  808635     71  3.581679  3.581679  ...       5  3.581679   3.581679   3.581679\n",
              "1  941866     71  3.581679  3.581679  ...       4  3.581679   3.581679   3.581679\n",
              "\n",
              "[2 rows x 19 columns]"
            ]
          },
          "metadata": {
            "tags": []
          },
          "execution_count": 92
        }
      ]
    },
    {
      "cell_type": "code",
      "metadata": {
        "id": "oeFh3hVk6OaT",
        "colab_type": "code",
        "colab": {
          "base_uri": "https://localhost:8080/",
          "height": 523
        },
        "outputId": "30965eee-195a-42c3-df5c-6009bdb97f36"
      },
      "source": [
        "# prepare the train data....\n",
        "x_train = reg_train.drop(['user', 'movie', 'rating'], axis=1)\n",
        "y_train = reg_train['rating']\n",
        "\n",
        "# prepare the train data....\n",
        "x_test = reg_test_df.drop(['user','movie','rating'], axis=1)\n",
        "y_test = reg_test_df['rating']\n",
        "\n",
        "# declare the model\n",
        "xgb_knn_bsl = xgb.XGBRegressor(n_jobs=10, random_state=15)\n",
        "train_results, test_results = run_xgboost(xgb_knn_bsl, x_train, y_train, x_test, y_test)\n",
        "\n",
        "# store the results in models_evaluations dictionaries\n",
        "models_evaluation_train['xgb_knn_bsl'] = train_results\n",
        "models_evaluation_test['xgb_knn_bsl'] = test_results\n",
        "\n",
        "\n",
        "xgb.plot_importance(xgb_knn_bsl)\n",
        "plt.show()"
      ],
      "execution_count": 93,
      "outputs": [
        {
          "output_type": "stream",
          "text": [
            "Training the model..\n",
            "[16:27:00] WARNING: /workspace/src/objective/regression_obj.cu:152: reg:linear is now deprecated in favor of reg:squarederror.\n",
            "Done. Time taken : 0:00:04.830200\n",
            "\n",
            "Done \n",
            "\n",
            "Evaluating the model with TRAIN data...\n",
            "Evaluating Test data\n",
            "\n",
            "TEST DATA\n",
            "------------------------------\n",
            "RMSE :  1.0767793575625662\n",
            "MAPE :  34.44745951378593\n"
          ],
          "name": "stdout"
        },
        {
          "output_type": "display_data",
          "data": {
            "image/png": "[encoded data removed]",
            "text/plain": [
              "<Figure size 432x288 with 1 Axes>"
            ]
          },
          "metadata": {
            "tags": []
          }
        }
      ]
    },
    {
      "cell_type": "markdown",
      "metadata": {
        "id": "kOZ62nT7xrr0",
        "colab_type": "text"
      },
      "source": [
        "<h3> 4.4.6 Matrix Factorization Techniques </h3>"
      ]
    },
    {
      "cell_type": "markdown",
      "metadata": {
        "id": "l8TKj6Ggxrr1",
        "colab_type": "text"
      },
      "source": [
        "<h4> 4.4.6.1 SVD Matrix Factorization User Movie intractions </h4>"
      ]
    },
    {
      "cell_type": "code",
      "metadata": {
        "id": "nPoAfEjP6arA",
        "colab_type": "code",
        "colab": {}
      },
      "source": [
        "from surprise import SVD"
      ],
      "execution_count": 0,
      "outputs": []
    },
    {
      "cell_type": "code",
      "metadata": {
        "id": "2i-TpnhH7D_v",
        "colab_type": "code",
        "colab": {
          "base_uri": "https://localhost:8080/",
          "height": 843
        },
        "outputId": "8b522533-1ea2-4668-93da-02880bc2c8a2"
      },
      "source": [
        "# initiallize the model\n",
        "svd = SVD(n_factors=100, biased=True, random_state=15, verbose=True)\n",
        "svd_train_results, svd_test_results = run_surprise(svd, trainset, testset, verbose=True)\n",
        "\n",
        "# Just store these error metrics in our models_evaluation datastructure\n",
        "models_evaluation_train['svd'] = svd_train_results \n",
        "models_evaluation_test['svd'] = svd_test_results"
      ],
      "execution_count": 95,
      "outputs": [
        {
          "output_type": "stream",
          "text": [
            "Training the model...\n",
            "Processing epoch 0\n",
            "Processing epoch 1\n",
            "Processing epoch 2\n",
            "Processing epoch 3\n",
            "Processing epoch 4\n",
            "Processing epoch 5\n",
            "Processing epoch 6\n",
            "Processing epoch 7\n",
            "Processing epoch 8\n",
            "Processing epoch 9\n",
            "Processing epoch 10\n",
            "Processing epoch 11\n",
            "Processing epoch 12\n",
            "Processing epoch 13\n",
            "Processing epoch 14\n",
            "Processing epoch 15\n",
            "Processing epoch 16\n",
            "Processing epoch 17\n",
            "Processing epoch 18\n",
            "Processing epoch 19\n",
            "Done. time taken : 0:00:07.777939 \n",
            "\n",
            "Evaluating the model with train data..\n",
            "time taken : 0:00:01.374519\n",
            "---------------\n",
            "Train Data\n",
            "---------------\n",
            "RMSE : 0.6574721240954099\n",
            "\n",
            "MAPE : 19.704901088660474\n",
            "\n",
            "adding train results in the dictionary..\n",
            "\n",
            "Evaluating for test data...\n",
            "time taken : 0:00:00.061812\n",
            "---------------\n",
            "Test Data\n",
            "---------------\n",
            "RMSE : 1.0726046873826458\n",
            "\n",
            "MAPE : 35.01953535988152\n",
            "\n",
            "storing the test results in test dictionary...\n",
            "\n",
            "---------------------------------------------\n",
            "Total time taken to run this algorithm : 0:00:09.215580\n"
          ],
          "name": "stdout"
        }
      ]
    },
    {
      "cell_type": "markdown",
      "metadata": {
        "id": "jmi0We7exrr6",
        "colab_type": "text"
      },
      "source": [
        "  <h4> 4.4.6.2 SVD Matrix Factorization with implicit feedback from user ( user rated movies ) </h4>"
      ]
    },
    {
      "cell_type": "code",
      "metadata": {
        "id": "0jr4dwYP7Fuu",
        "colab_type": "code",
        "colab": {}
      },
      "source": [
        "from surprise import SVDpp"
      ],
      "execution_count": 0,
      "outputs": []
    },
    {
      "cell_type": "code",
      "metadata": {
        "id": "aCLNMLis7Ic3",
        "colab_type": "code",
        "colab": {
          "base_uri": "https://localhost:8080/",
          "height": 843
        },
        "outputId": "0c93b6e8-e509-4311-e88f-72f06199a668"
      },
      "source": [
        "# initiallize the model\n",
        "svdpp = SVDpp(n_factors=50, random_state=15, verbose=True)\n",
        "svdpp_train_results, svdpp_test_results = run_surprise(svdpp, trainset, testset, verbose=True)\n",
        "\n",
        "# Just store these error metrics in our models_evaluation datastructure\n",
        "models_evaluation_train['svdpp'] = svdpp_train_results \n",
        "models_evaluation_test['svdpp'] = svdpp_test_results\n"
      ],
      "execution_count": 97,
      "outputs": [
        {
          "output_type": "stream",
          "text": [
            "Training the model...\n",
            " processing epoch 0\n",
            " processing epoch 1\n",
            " processing epoch 2\n",
            " processing epoch 3\n",
            " processing epoch 4\n",
            " processing epoch 5\n",
            " processing epoch 6\n",
            " processing epoch 7\n",
            " processing epoch 8\n",
            " processing epoch 9\n",
            " processing epoch 10\n",
            " processing epoch 11\n",
            " processing epoch 12\n",
            " processing epoch 13\n",
            " processing epoch 14\n",
            " processing epoch 15\n",
            " processing epoch 16\n",
            " processing epoch 17\n",
            " processing epoch 18\n",
            " processing epoch 19\n",
            "Done. time taken : 0:02:02.035252 \n",
            "\n",
            "Evaluating the model with train data..\n",
            "time taken : 0:00:06.601233\n",
            "---------------\n",
            "Train Data\n",
            "---------------\n",
            "RMSE : 0.6032438403305899\n",
            "\n",
            "MAPE : 17.49285063490268\n",
            "\n",
            "adding train results in the dictionary..\n",
            "\n",
            "Evaluating for test data...\n",
            "time taken : 0:00:00.062623\n",
            "---------------\n",
            "Test Data\n",
            "---------------\n",
            "RMSE : 1.0728491944183447\n",
            "\n",
            "MAPE : 35.03817913919887\n",
            "\n",
            "storing the test results in test dictionary...\n",
            "\n",
            "---------------------------------------------\n",
            "Total time taken to run this algorithm : 0:02:08.700989\n"
          ],
          "name": "stdout"
        }
      ]
    },
    {
      "cell_type": "markdown",
      "metadata": {
        "id": "zAlGZGj_xrsB",
        "colab_type": "text"
      },
      "source": [
        "<h3> 4.4.7 XgBoost with 13 features + Surprise Baseline + Surprise KNNbaseline + MF Techniques </h3>"
      ]
    },
    {
      "cell_type": "code",
      "metadata": {
        "id": "q2uSN7RC7I6i",
        "colab_type": "code",
        "colab": {
          "base_uri": "https://localhost:8080/",
          "height": 128
        },
        "outputId": "bd9151d1-df66-4177-9df5-42194ec312cf"
      },
      "source": [
        "# add the predicted values from both knns to this dataframe\n",
        "reg_train['svd'] = models_evaluation_train['svd']['predictions']\n",
        "reg_train['svdpp'] = models_evaluation_train['svdpp']['predictions']\n",
        "\n",
        "reg_train.head(2) "
      ],
      "execution_count": 98,
      "outputs": [
        {
          "output_type": "execute_result",
          "data": {
            "text/html": [
              "<div>\n",
              "<style scoped>\n",
              "    .dataframe tbody tr th:only-of-type {\n",
              "        vertical-align: middle;\n",
              "    }\n",
              "\n",
              "    .dataframe tbody tr th {\n",
              "        vertical-align: top;\n",
              "    }\n",
              "\n",
              "    .dataframe thead th {\n",
              "        text-align: right;\n",
              "    }\n",
              "</style>\n",
              "<table border=\"1\" class=\"dataframe\">\n",
              "  <thead>\n",
              "    <tr style=\"text-align: right;\">\n",
              "      <th></th>\n",
              "      <th>user</th>\n",
              "      <th>movie</th>\n",
              "      <th>GAvg</th>\n",
              "      <th>sur1</th>\n",
              "      <th>sur2</th>\n",
              "      <th>sur3</th>\n",
              "      <th>sur4</th>\n",
              "      <th>sur5</th>\n",
              "      <th>smr1</th>\n",
              "      <th>smr2</th>\n",
              "      <th>smr3</th>\n",
              "      <th>smr4</th>\n",
              "      <th>smr5</th>\n",
              "      <th>UAvg</th>\n",
              "      <th>MAvg</th>\n",
              "      <th>rating</th>\n",
              "      <th>bslpr</th>\n",
              "      <th>knn_bsl_u</th>\n",
              "      <th>knn_bsl_m</th>\n",
              "      <th>svd</th>\n",
              "      <th>svdpp</th>\n",
              "    </tr>\n",
              "  </thead>\n",
              "  <tbody>\n",
              "    <tr>\n",
              "      <th>0</th>\n",
              "      <td>53406</td>\n",
              "      <td>33</td>\n",
              "      <td>3.581679</td>\n",
              "      <td>4.0</td>\n",
              "      <td>5.0</td>\n",
              "      <td>5.0</td>\n",
              "      <td>4.0</td>\n",
              "      <td>1.0</td>\n",
              "      <td>5.0</td>\n",
              "      <td>2.0</td>\n",
              "      <td>5.0</td>\n",
              "      <td>3.0</td>\n",
              "      <td>1.0</td>\n",
              "      <td>3.370370</td>\n",
              "      <td>4.092437</td>\n",
              "      <td>4</td>\n",
              "      <td>3.898982</td>\n",
              "      <td>3.93002</td>\n",
              "      <td>3.867958</td>\n",
              "      <td>4.303764</td>\n",
              "      <td>3.621664</td>\n",
              "    </tr>\n",
              "    <tr>\n",
              "      <th>1</th>\n",
              "      <td>99540</td>\n",
              "      <td>33</td>\n",
              "      <td>3.581679</td>\n",
              "      <td>5.0</td>\n",
              "      <td>5.0</td>\n",
              "      <td>5.0</td>\n",
              "      <td>4.0</td>\n",
              "      <td>5.0</td>\n",
              "      <td>3.0</td>\n",
              "      <td>4.0</td>\n",
              "      <td>4.0</td>\n",
              "      <td>3.0</td>\n",
              "      <td>5.0</td>\n",
              "      <td>3.555556</td>\n",
              "      <td>4.092437</td>\n",
              "      <td>3</td>\n",
              "      <td>3.371403</td>\n",
              "      <td>3.17733</td>\n",
              "      <td>3.076302</td>\n",
              "      <td>3.278967</td>\n",
              "      <td>3.538247</td>\n",
              "    </tr>\n",
              "  </tbody>\n",
              "</table>\n",
              "</div>"
            ],
            "text/plain": [
              "    user  movie      GAvg  sur1  ...  knn_bsl_u  knn_bsl_m       svd     svdpp\n",
              "0  53406     33  3.581679   4.0  ...    3.93002   3.867958  4.303764  3.621664\n",
              "1  99540     33  3.581679   5.0  ...    3.17733   3.076302  3.278967  3.538247\n",
              "\n",
              "[2 rows x 21 columns]"
            ]
          },
          "metadata": {
            "tags": []
          },
          "execution_count": 98
        }
      ]
    },
    {
      "cell_type": "code",
      "metadata": {
        "id": "X0lJo99m7MB5",
        "colab_type": "code",
        "colab": {
          "base_uri": "https://localhost:8080/",
          "height": 128
        },
        "outputId": "d8f48e97-0e4c-48a1-876d-53d5e667e243"
      },
      "source": [
        "reg_test_df['svd'] = models_evaluation_test['svd']['predictions']\n",
        "reg_test_df['svdpp'] = models_evaluation_test['svdpp']['predictions']\n",
        "\n",
        "reg_test_df.head(2) "
      ],
      "execution_count": 99,
      "outputs": [
        {
          "output_type": "execute_result",
          "data": {
            "text/html": [
              "<div>\n",
              "<style scoped>\n",
              "    .dataframe tbody tr th:only-of-type {\n",
              "        vertical-align: middle;\n",
              "    }\n",
              "\n",
              "    .dataframe tbody tr th {\n",
              "        vertical-align: top;\n",
              "    }\n",
              "\n",
              "    .dataframe thead th {\n",
              "        text-align: right;\n",
              "    }\n",
              "</style>\n",
              "<table border=\"1\" class=\"dataframe\">\n",
              "  <thead>\n",
              "    <tr style=\"text-align: right;\">\n",
              "      <th></th>\n",
              "      <th>user</th>\n",
              "      <th>movie</th>\n",
              "      <th>GAvg</th>\n",
              "      <th>sur1</th>\n",
              "      <th>sur2</th>\n",
              "      <th>sur3</th>\n",
              "      <th>sur4</th>\n",
              "      <th>sur5</th>\n",
              "      <th>smr1</th>\n",
              "      <th>smr2</th>\n",
              "      <th>smr3</th>\n",
              "      <th>smr4</th>\n",
              "      <th>smr5</th>\n",
              "      <th>UAvg</th>\n",
              "      <th>MAvg</th>\n",
              "      <th>rating</th>\n",
              "      <th>bslpr</th>\n",
              "      <th>knn_bsl_u</th>\n",
              "      <th>knn_bsl_m</th>\n",
              "      <th>svd</th>\n",
              "      <th>svdpp</th>\n",
              "    </tr>\n",
              "  </thead>\n",
              "  <tbody>\n",
              "    <tr>\n",
              "      <th>0</th>\n",
              "      <td>808635</td>\n",
              "      <td>71</td>\n",
              "      <td>3.581679</td>\n",
              "      <td>3.581679</td>\n",
              "      <td>3.581679</td>\n",
              "      <td>3.581679</td>\n",
              "      <td>3.581679</td>\n",
              "      <td>3.581679</td>\n",
              "      <td>3.581679</td>\n",
              "      <td>3.581679</td>\n",
              "      <td>3.581679</td>\n",
              "      <td>3.581679</td>\n",
              "      <td>3.581679</td>\n",
              "      <td>3.581679</td>\n",
              "      <td>3.581679</td>\n",
              "      <td>5</td>\n",
              "      <td>3.581679</td>\n",
              "      <td>3.581679</td>\n",
              "      <td>3.581679</td>\n",
              "      <td>3.581679</td>\n",
              "      <td>3.581679</td>\n",
              "    </tr>\n",
              "    <tr>\n",
              "      <th>1</th>\n",
              "      <td>941866</td>\n",
              "      <td>71</td>\n",
              "      <td>3.581679</td>\n",
              "      <td>3.581679</td>\n",
              "      <td>3.581679</td>\n",
              "      <td>3.581679</td>\n",
              "      <td>3.581679</td>\n",
              "      <td>3.581679</td>\n",
              "      <td>3.581679</td>\n",
              "      <td>3.581679</td>\n",
              "      <td>3.581679</td>\n",
              "      <td>3.581679</td>\n",
              "      <td>3.581679</td>\n",
              "      <td>3.581679</td>\n",
              "      <td>3.581679</td>\n",
              "      <td>4</td>\n",
              "      <td>3.581679</td>\n",
              "      <td>3.581679</td>\n",
              "      <td>3.581679</td>\n",
              "      <td>3.581679</td>\n",
              "      <td>3.581679</td>\n",
              "    </tr>\n",
              "  </tbody>\n",
              "</table>\n",
              "</div>"
            ],
            "text/plain": [
              "     user  movie      GAvg      sur1  ...  knn_bsl_u  knn_bsl_m       svd     svdpp\n",
              "0  808635     71  3.581679  3.581679  ...   3.581679   3.581679  3.581679  3.581679\n",
              "1  941866     71  3.581679  3.581679  ...   3.581679   3.581679  3.581679  3.581679\n",
              "\n",
              "[2 rows x 21 columns]"
            ]
          },
          "metadata": {
            "tags": []
          },
          "execution_count": 99
        }
      ]
    },
    {
      "cell_type": "code",
      "metadata": {
        "id": "Y9xDiSLZ7NZt",
        "colab_type": "code",
        "colab": {
          "base_uri": "https://localhost:8080/",
          "height": 523
        },
        "outputId": "0cd503e0-544e-4cfe-f6d3-8d1af2e02d5c"
      },
      "source": [
        "# prepare x_train and y_train\n",
        "x_train = reg_train.drop(['user', 'movie', 'rating',], axis=1)\n",
        "y_train = reg_train['rating']\n",
        "\n",
        "# prepare test data\n",
        "x_test = reg_test_df.drop(['user', 'movie', 'rating'], axis=1)\n",
        "y_test = reg_test_df['rating']\n",
        "\n",
        "\n",
        "\n",
        "xgb_final = xgb.XGBRegressor(n_jobs=10, random_state=15)\n",
        "train_results, test_results = run_xgboost(xgb_final, x_train, y_train, x_test, y_test)\n",
        "\n",
        "# store the results in models_evaluations dictionaries\n",
        "models_evaluation_train['xgb_final'] = train_results\n",
        "models_evaluation_test['xgb_final'] = test_results\n",
        "\n",
        "\n",
        "xgb.plot_importance(xgb_final)\n",
        "plt.show()"
      ],
      "execution_count": 100,
      "outputs": [
        {
          "output_type": "stream",
          "text": [
            "Training the model..\n",
            "[16:32:37] WARNING: /workspace/src/objective/regression_obj.cu:152: reg:linear is now deprecated in favor of reg:squarederror.\n",
            "Done. Time taken : 0:00:05.656729\n",
            "\n",
            "Done \n",
            "\n",
            "Evaluating the model with TRAIN data...\n",
            "Evaluating Test data\n",
            "\n",
            "TEST DATA\n",
            "------------------------------\n",
            "RMSE :  1.0769599573828592\n",
            "MAPE :  34.431788329400995\n"
          ],
          "name": "stdout"
        },
        {
          "output_type": "display_data",
          "data": {
            "image/png": "[encoded data removed]",
            "text/plain": [
              "<Figure size 432x288 with 1 Axes>"
            ]
          },
          "metadata": {
            "tags": []
          }
        }
      ]
    },
    {
      "cell_type": "markdown",
      "metadata": {
        "id": "NN-0BKnXxrsI",
        "colab_type": "text"
      },
      "source": [
        "<h3> 4.4.8 XgBoost with Surprise Baseline + Surprise KNNbaseline + MF Techniques </h3>"
      ]
    },
    {
      "cell_type": "code",
      "metadata": {
        "id": "QmYZ8vYE7Pa1",
        "colab_type": "code",
        "colab": {
          "base_uri": "https://localhost:8080/",
          "height": 523
        },
        "outputId": "f79e301d-2c61-4c87-f817-6237a07d487b"
      },
      "source": [
        "# prepare train data\n",
        "x_train = reg_train[['knn_bsl_u', 'knn_bsl_m', 'svd', 'svdpp']]\n",
        "y_train = reg_train['rating']\n",
        "\n",
        "# test data\n",
        "x_test = reg_test_df[['knn_bsl_u', 'knn_bsl_m', 'svd', 'svdpp']]\n",
        "y_test = reg_test_df['rating']\n",
        "\n",
        "\n",
        "xgb_all_models = xgb.XGBRegressor(n_jobs=10, random_state=15)\n",
        "train_results, test_results = run_xgboost(xgb_all_models, x_train, y_train, x_test, y_test)\n",
        "\n",
        "# store the results in models_evaluations dictionaries\n",
        "models_evaluation_train['xgb_all_models'] = train_results\n",
        "models_evaluation_test['xgb_all_models'] = test_results\n",
        "\n",
        "xgb.plot_importance(xgb_all_models)\n",
        "plt.show()"
      ],
      "execution_count": 101,
      "outputs": [
        {
          "output_type": "stream",
          "text": [
            "Training the model..\n",
            "[16:32:51] WARNING: /workspace/src/objective/regression_obj.cu:152: reg:linear is now deprecated in favor of reg:squarederror.\n",
            "Done. Time taken : 0:00:03.575088\n",
            "\n",
            "Done \n",
            "\n",
            "Evaluating the model with TRAIN data...\n",
            "Evaluating Test data\n",
            "\n",
            "TEST DATA\n",
            "------------------------------\n",
            "RMSE :  1.0753047860953797\n",
            "MAPE :  35.07058962951319\n"
          ],
          "name": "stdout"
        },
        {
          "output_type": "display_data",
          "data": {
            "image/png": "[encoded data removed]",
            "text/plain": [
              "<Figure size 432x288 with 1 Axes>"
            ]
          },
          "metadata": {
            "tags": []
          }
        }
      ]
    }
  ]
}